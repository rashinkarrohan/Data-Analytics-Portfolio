{
 "cells": [
  {
   "cell_type": "markdown",
   "metadata": {},
   "source": [
    "## Importing Libraries\n",
    "\n",
    "**Pandas** :  Pandas Library is used for the *Data Manipulation and Analysis*.\n",
    "\n",
    "**Numpy**  :  Numpy Library is use for Mathematical Computation and used as Arrays.\n",
    "\n",
    "**Matplotlib** : Matplotlib Library is used to create Visualization from the Data."
   ]
  },
  {
   "cell_type": "code",
   "execution_count": 2,
   "metadata": {},
   "outputs": [],
   "source": [
    "import pandas as pd\n",
    "import seaborn as sns\n",
    "import matplotlib.pyplot as plt"
   ]
  },
  {
   "cell_type": "markdown",
   "metadata": {},
   "source": [
    "## Importing Dataset\n",
    "\n",
    "Here,we have used the Population Dataset of World Bank."
   ]
  },
  {
   "cell_type": "code",
   "execution_count": 3,
   "metadata": {},
   "outputs": [],
   "source": [
    "df = pd.read_csv(\"Population.csv\")"
   ]
  },
  {
   "cell_type": "code",
   "execution_count": 4,
   "metadata": {},
   "outputs": [
    {
     "data": {
      "text/plain": [
       "Index(['Unnamed: 0', 'Year', 'Male', 'Female', 'Male (%)', 'Female ( %)',\n",
       "       'Population'],\n",
       "      dtype='object')"
      ]
     },
     "execution_count": 4,
     "metadata": {},
     "output_type": "execute_result"
    }
   ],
   "source": [
    "df.columns"
   ]
  },
  {
   "cell_type": "code",
   "execution_count": 5,
   "metadata": {},
   "outputs": [
    {
     "data": {
      "text/plain": [
       "(60, 7)"
      ]
     },
     "execution_count": 5,
     "metadata": {},
     "output_type": "execute_result"
    }
   ],
   "source": [
    "df.shape"
   ]
  },
  {
   "cell_type": "code",
   "execution_count": 6,
   "metadata": {},
   "outputs": [
    {
     "name": "stdout",
     "output_type": "stream",
     "text": [
      "<class 'pandas.core.frame.DataFrame'>\n",
      "RangeIndex: 60 entries, 0 to 59\n",
      "Data columns (total 7 columns):\n",
      " #   Column       Non-Null Count  Dtype  \n",
      "---  ------       --------------  -----  \n",
      " 0   Unnamed: 0   60 non-null     int64  \n",
      " 1   Year         60 non-null     int64  \n",
      " 2   Male         60 non-null     int64  \n",
      " 3   Female       60 non-null     int64  \n",
      " 4   Male (%)     60 non-null     float64\n",
      " 5   Female ( %)  60 non-null     float64\n",
      " 6   Population   60 non-null     int64  \n",
      "dtypes: float64(2), int64(5)\n",
      "memory usage: 3.4 KB\n"
     ]
    }
   ],
   "source": [
    "df.info()"
   ]
  },
  {
   "cell_type": "code",
   "execution_count": 7,
   "metadata": {
    "scrolled": false
   },
   "outputs": [
    {
     "data": {
      "text/html": [
       "<div>\n",
       "<style scoped>\n",
       "    .dataframe tbody tr th:only-of-type {\n",
       "        vertical-align: middle;\n",
       "    }\n",
       "\n",
       "    .dataframe tbody tr th {\n",
       "        vertical-align: top;\n",
       "    }\n",
       "\n",
       "    .dataframe thead th {\n",
       "        text-align: right;\n",
       "    }\n",
       "</style>\n",
       "<table border=\"1\" class=\"dataframe\">\n",
       "  <thead>\n",
       "    <tr style=\"text-align: right;\">\n",
       "      <th></th>\n",
       "      <th>Unnamed: 0</th>\n",
       "      <th>Year</th>\n",
       "      <th>Male</th>\n",
       "      <th>Female</th>\n",
       "      <th>Male (%)</th>\n",
       "      <th>Female ( %)</th>\n",
       "      <th>Population</th>\n",
       "    </tr>\n",
       "  </thead>\n",
       "  <tbody>\n",
       "    <tr>\n",
       "      <th>55</th>\n",
       "      <td>55</td>\n",
       "      <td>2015</td>\n",
       "      <td>681223338</td>\n",
       "      <td>628929065</td>\n",
       "      <td>51.995732</td>\n",
       "      <td>48.004268</td>\n",
       "      <td>1310152403</td>\n",
       "    </tr>\n",
       "    <tr>\n",
       "      <th>56</th>\n",
       "      <td>56</td>\n",
       "      <td>2016</td>\n",
       "      <td>688600704</td>\n",
       "      <td>635908885</td>\n",
       "      <td>51.989107</td>\n",
       "      <td>48.010893</td>\n",
       "      <td>1324509589</td>\n",
       "    </tr>\n",
       "    <tr>\n",
       "      <th>57</th>\n",
       "      <td>57</td>\n",
       "      <td>2017</td>\n",
       "      <td>695871194</td>\n",
       "      <td>642787641</td>\n",
       "      <td>51.982714</td>\n",
       "      <td>48.017286</td>\n",
       "      <td>1338658835</td>\n",
       "    </tr>\n",
       "    <tr>\n",
       "      <th>58</th>\n",
       "      <td>58</td>\n",
       "      <td>2018</td>\n",
       "      <td>703042609</td>\n",
       "      <td>649574719</td>\n",
       "      <td>51.976460</td>\n",
       "      <td>48.023540</td>\n",
       "      <td>1352617328</td>\n",
       "    </tr>\n",
       "    <tr>\n",
       "      <th>59</th>\n",
       "      <td>59</td>\n",
       "      <td>2019</td>\n",
       "      <td>710129571</td>\n",
       "      <td>656288183</td>\n",
       "      <td>51.970166</td>\n",
       "      <td>48.029834</td>\n",
       "      <td>1366417754</td>\n",
       "    </tr>\n",
       "  </tbody>\n",
       "</table>\n",
       "</div>"
      ],
      "text/plain": [
       "    Unnamed: 0  Year       Male     Female   Male (%)  Female ( %)  Population\n",
       "55          55  2015  681223338  628929065  51.995732    48.004268  1310152403\n",
       "56          56  2016  688600704  635908885  51.989107    48.010893  1324509589\n",
       "57          57  2017  695871194  642787641  51.982714    48.017286  1338658835\n",
       "58          58  2018  703042609  649574719  51.976460    48.023540  1352617328\n",
       "59          59  2019  710129571  656288183  51.970166    48.029834  1366417754"
      ]
     },
     "execution_count": 7,
     "metadata": {},
     "output_type": "execute_result"
    }
   ],
   "source": [
    "df.tail()"
   ]
  },
  {
   "cell_type": "markdown",
   "metadata": {},
   "source": [
    "## Drop Unnamed: 0 Column from Dataset."
   ]
  },
  {
   "cell_type": "code",
   "execution_count": 8,
   "metadata": {},
   "outputs": [],
   "source": [
    "df.drop(['Unnamed: 0'],axis=1,inplace=True)"
   ]
  },
  {
   "cell_type": "code",
   "execution_count": 9,
   "metadata": {
    "scrolled": true
   },
   "outputs": [
    {
     "data": {
      "text/html": [
       "<div>\n",
       "<style scoped>\n",
       "    .dataframe tbody tr th:only-of-type {\n",
       "        vertical-align: middle;\n",
       "    }\n",
       "\n",
       "    .dataframe tbody tr th {\n",
       "        vertical-align: top;\n",
       "    }\n",
       "\n",
       "    .dataframe thead th {\n",
       "        text-align: right;\n",
       "    }\n",
       "</style>\n",
       "<table border=\"1\" class=\"dataframe\">\n",
       "  <thead>\n",
       "    <tr style=\"text-align: right;\">\n",
       "      <th></th>\n",
       "      <th>Year</th>\n",
       "      <th>Male</th>\n",
       "      <th>Female</th>\n",
       "      <th>Male (%)</th>\n",
       "      <th>Female ( %)</th>\n",
       "      <th>Population</th>\n",
       "    </tr>\n",
       "  </thead>\n",
       "  <tbody>\n",
       "    <tr>\n",
       "      <th>0</th>\n",
       "      <td>1960</td>\n",
       "      <td>232504741</td>\n",
       "      <td>218042938</td>\n",
       "      <td>51.604914</td>\n",
       "      <td>48.395086</td>\n",
       "      <td>450547679</td>\n",
       "    </tr>\n",
       "    <tr>\n",
       "      <th>1</th>\n",
       "      <td>1961</td>\n",
       "      <td>237313421</td>\n",
       "      <td>222328744</td>\n",
       "      <td>51.630037</td>\n",
       "      <td>48.369963</td>\n",
       "      <td>459642165</td>\n",
       "    </tr>\n",
       "    <tr>\n",
       "      <th>2</th>\n",
       "      <td>1962</td>\n",
       "      <td>242296454</td>\n",
       "      <td>226780736</td>\n",
       "      <td>51.653856</td>\n",
       "      <td>48.346144</td>\n",
       "      <td>469077190</td>\n",
       "    </tr>\n",
       "    <tr>\n",
       "      <th>3</th>\n",
       "      <td>1963</td>\n",
       "      <td>247438411</td>\n",
       "      <td>231387197</td>\n",
       "      <td>51.676102</td>\n",
       "      <td>48.323898</td>\n",
       "      <td>478825608</td>\n",
       "    </tr>\n",
       "    <tr>\n",
       "      <th>4</th>\n",
       "      <td>1964</td>\n",
       "      <td>252717316</td>\n",
       "      <td>236130819</td>\n",
       "      <td>51.696488</td>\n",
       "      <td>48.303512</td>\n",
       "      <td>488848135</td>\n",
       "    </tr>\n",
       "  </tbody>\n",
       "</table>\n",
       "</div>"
      ],
      "text/plain": [
       "   Year       Male     Female   Male (%)  Female ( %)  Population\n",
       "0  1960  232504741  218042938  51.604914    48.395086   450547679\n",
       "1  1961  237313421  222328744  51.630037    48.369963   459642165\n",
       "2  1962  242296454  226780736  51.653856    48.346144   469077190\n",
       "3  1963  247438411  231387197  51.676102    48.323898   478825608\n",
       "4  1964  252717316  236130819  51.696488    48.303512   488848135"
      ]
     },
     "execution_count": 9,
     "metadata": {},
     "output_type": "execute_result"
    }
   ],
   "source": [
    "df.head()"
   ]
  },
  {
   "cell_type": "markdown",
   "metadata": {},
   "source": [
    "## Checking for the Null Values"
   ]
  },
  {
   "cell_type": "code",
   "execution_count": 10,
   "metadata": {},
   "outputs": [
    {
     "data": {
      "text/plain": [
       "Year           0\n",
       "Male           0\n",
       "Female         0\n",
       "Male (%)       0\n",
       "Female ( %)    0\n",
       "Population     0\n",
       "dtype: int64"
      ]
     },
     "execution_count": 10,
     "metadata": {},
     "output_type": "execute_result"
    }
   ],
   "source": [
    "df.isnull().sum()"
   ]
  },
  {
   "cell_type": "markdown",
   "metadata": {},
   "source": [
    "### Did Population  of the Female Ever Exceeded Male."
   ]
  },
  {
   "cell_type": "code",
   "execution_count": 11,
   "metadata": {},
   "outputs": [
    {
     "data": {
      "text/html": [
       "<div>\n",
       "<style scoped>\n",
       "    .dataframe tbody tr th:only-of-type {\n",
       "        vertical-align: middle;\n",
       "    }\n",
       "\n",
       "    .dataframe tbody tr th {\n",
       "        vertical-align: top;\n",
       "    }\n",
       "\n",
       "    .dataframe thead th {\n",
       "        text-align: right;\n",
       "    }\n",
       "</style>\n",
       "<table border=\"1\" class=\"dataframe\">\n",
       "  <thead>\n",
       "    <tr style=\"text-align: right;\">\n",
       "      <th></th>\n",
       "      <th>Year</th>\n",
       "      <th>Male</th>\n",
       "      <th>Female</th>\n",
       "      <th>Male (%)</th>\n",
       "      <th>Female ( %)</th>\n",
       "      <th>Population</th>\n",
       "    </tr>\n",
       "  </thead>\n",
       "  <tbody>\n",
       "  </tbody>\n",
       "</table>\n",
       "</div>"
      ],
      "text/plain": [
       "Empty DataFrame\n",
       "Columns: [Year, Male, Female, Male (%), Female ( %), Population]\n",
       "Index: []"
      ]
     },
     "execution_count": 11,
     "metadata": {},
     "output_type": "execute_result"
    }
   ],
   "source": [
    "df[df.Male < df.Female]"
   ]
  },
  {
   "cell_type": "markdown",
   "metadata": {},
   "source": [
    "This tell us that Women Population Never Exceeded than Man Population.csv"
   ]
  },
  {
   "cell_type": "markdown",
   "metadata": {},
   "source": [
    "### Top 10 Years Where Women Population was Highest in terms of Population."
   ]
  },
  {
   "cell_type": "code",
   "execution_count": 12,
   "metadata": {},
   "outputs": [
    {
     "data": {
      "text/html": [
       "<div>\n",
       "<style scoped>\n",
       "    .dataframe tbody tr th:only-of-type {\n",
       "        vertical-align: middle;\n",
       "    }\n",
       "\n",
       "    .dataframe tbody tr th {\n",
       "        vertical-align: top;\n",
       "    }\n",
       "\n",
       "    .dataframe thead th {\n",
       "        text-align: right;\n",
       "    }\n",
       "</style>\n",
       "<table border=\"1\" class=\"dataframe\">\n",
       "  <thead>\n",
       "    <tr style=\"text-align: right;\">\n",
       "      <th></th>\n",
       "      <th>Year</th>\n",
       "      <th>Male</th>\n",
       "      <th>Female</th>\n",
       "      <th>Male (%)</th>\n",
       "      <th>Female ( %)</th>\n",
       "      <th>Population</th>\n",
       "    </tr>\n",
       "  </thead>\n",
       "  <tbody>\n",
       "    <tr>\n",
       "      <th>0</th>\n",
       "      <td>1960</td>\n",
       "      <td>232504741</td>\n",
       "      <td>218042938</td>\n",
       "      <td>51.604914</td>\n",
       "      <td>48.395086</td>\n",
       "      <td>450547679</td>\n",
       "    </tr>\n",
       "    <tr>\n",
       "      <th>1</th>\n",
       "      <td>1961</td>\n",
       "      <td>237313421</td>\n",
       "      <td>222328744</td>\n",
       "      <td>51.630037</td>\n",
       "      <td>48.369963</td>\n",
       "      <td>459642165</td>\n",
       "    </tr>\n",
       "    <tr>\n",
       "      <th>2</th>\n",
       "      <td>1962</td>\n",
       "      <td>242296454</td>\n",
       "      <td>226780736</td>\n",
       "      <td>51.653856</td>\n",
       "      <td>48.346144</td>\n",
       "      <td>469077190</td>\n",
       "    </tr>\n",
       "    <tr>\n",
       "      <th>3</th>\n",
       "      <td>1963</td>\n",
       "      <td>247438411</td>\n",
       "      <td>231387197</td>\n",
       "      <td>51.676102</td>\n",
       "      <td>48.323898</td>\n",
       "      <td>478825608</td>\n",
       "    </tr>\n",
       "    <tr>\n",
       "      <th>4</th>\n",
       "      <td>1964</td>\n",
       "      <td>252717316</td>\n",
       "      <td>236130819</td>\n",
       "      <td>51.696488</td>\n",
       "      <td>48.303512</td>\n",
       "      <td>488848135</td>\n",
       "    </tr>\n",
       "  </tbody>\n",
       "</table>\n",
       "</div>"
      ],
      "text/plain": [
       "   Year       Male     Female   Male (%)  Female ( %)  Population\n",
       "0  1960  232504741  218042938  51.604914    48.395086   450547679\n",
       "1  1961  237313421  222328744  51.630037    48.369963   459642165\n",
       "2  1962  242296454  226780736  51.653856    48.346144   469077190\n",
       "3  1963  247438411  231387197  51.676102    48.323898   478825608\n",
       "4  1964  252717316  236130819  51.696488    48.303512   488848135"
      ]
     },
     "execution_count": 12,
     "metadata": {},
     "output_type": "execute_result"
    }
   ],
   "source": [
    "df.sort_values(ascending=False,by='Female ( %)').head()"
   ]
  },
  {
   "cell_type": "code",
   "execution_count": 13,
   "metadata": {},
   "outputs": [
    {
     "data": {
      "text/html": [
       "<div>\n",
       "<style scoped>\n",
       "    .dataframe tbody tr th:only-of-type {\n",
       "        vertical-align: middle;\n",
       "    }\n",
       "\n",
       "    .dataframe tbody tr th {\n",
       "        vertical-align: top;\n",
       "    }\n",
       "\n",
       "    .dataframe thead th {\n",
       "        text-align: right;\n",
       "    }\n",
       "</style>\n",
       "<table border=\"1\" class=\"dataframe\">\n",
       "  <thead>\n",
       "    <tr style=\"text-align: right;\">\n",
       "      <th></th>\n",
       "      <th>Year</th>\n",
       "      <th>Male</th>\n",
       "      <th>Female</th>\n",
       "      <th>Male (%)</th>\n",
       "      <th>Female ( %)</th>\n",
       "      <th>Population</th>\n",
       "    </tr>\n",
       "  </thead>\n",
       "  <tbody>\n",
       "    <tr>\n",
       "      <th>48</th>\n",
       "      <td>2008</td>\n",
       "      <td>624720985</td>\n",
       "      <td>575948780</td>\n",
       "      <td>52.031042</td>\n",
       "      <td>47.968958</td>\n",
       "      <td>1200669765</td>\n",
       "    </tr>\n",
       "    <tr>\n",
       "      <th>47</th>\n",
       "      <td>2007</td>\n",
       "      <td>615629521</td>\n",
       "      <td>567579951</td>\n",
       "      <td>52.030476</td>\n",
       "      <td>47.969524</td>\n",
       "      <td>1183209472</td>\n",
       "    </tr>\n",
       "    <tr>\n",
       "      <th>49</th>\n",
       "      <td>2009</td>\n",
       "      <td>633583575</td>\n",
       "      <td>584142640</td>\n",
       "      <td>52.030051</td>\n",
       "      <td>47.969949</td>\n",
       "      <td>1217726215</td>\n",
       "    </tr>\n",
       "    <tr>\n",
       "      <th>46</th>\n",
       "      <td>2006</td>\n",
       "      <td>606386475</td>\n",
       "      <td>559099816</td>\n",
       "      <td>52.028624</td>\n",
       "      <td>47.971376</td>\n",
       "      <td>1165486291</td>\n",
       "    </tr>\n",
       "    <tr>\n",
       "      <th>50</th>\n",
       "      <td>2010</td>\n",
       "      <td>642164185</td>\n",
       "      <td>592116985</td>\n",
       "      <td>52.027382</td>\n",
       "      <td>47.972618</td>\n",
       "      <td>1234281170</td>\n",
       "    </tr>\n",
       "    <tr>\n",
       "      <th>45</th>\n",
       "      <td>2005</td>\n",
       "      <td>597052215</td>\n",
       "      <td>550557712</td>\n",
       "      <td>52.025710</td>\n",
       "      <td>47.974290</td>\n",
       "      <td>1147609927</td>\n",
       "    </tr>\n",
       "    <tr>\n",
       "      <th>51</th>\n",
       "      <td>2011</td>\n",
       "      <td>650437004</td>\n",
       "      <td>599851725</td>\n",
       "      <td>52.022944</td>\n",
       "      <td>47.977056</td>\n",
       "      <td>1250288729</td>\n",
       "    </tr>\n",
       "    <tr>\n",
       "      <th>44</th>\n",
       "      <td>2004</td>\n",
       "      <td>587649479</td>\n",
       "      <td>541973977</td>\n",
       "      <td>52.021714</td>\n",
       "      <td>47.978286</td>\n",
       "      <td>1129623456</td>\n",
       "    </tr>\n",
       "    <tr>\n",
       "      <th>52</th>\n",
       "      <td>2012</td>\n",
       "      <td>658421676</td>\n",
       "      <td>607361114</td>\n",
       "      <td>52.016956</td>\n",
       "      <td>47.983044</td>\n",
       "      <td>1265782790</td>\n",
       "    </tr>\n",
       "    <tr>\n",
       "      <th>43</th>\n",
       "      <td>2003</td>\n",
       "      <td>578176498</td>\n",
       "      <td>533346646</td>\n",
       "      <td>52.016596</td>\n",
       "      <td>47.983404</td>\n",
       "      <td>1111523144</td>\n",
       "    </tr>\n",
       "  </tbody>\n",
       "</table>\n",
       "</div>"
      ],
      "text/plain": [
       "    Year       Male     Female   Male (%)  Female ( %)  Population\n",
       "48  2008  624720985  575948780  52.031042    47.968958  1200669765\n",
       "47  2007  615629521  567579951  52.030476    47.969524  1183209472\n",
       "49  2009  633583575  584142640  52.030051    47.969949  1217726215\n",
       "46  2006  606386475  559099816  52.028624    47.971376  1165486291\n",
       "50  2010  642164185  592116985  52.027382    47.972618  1234281170\n",
       "45  2005  597052215  550557712  52.025710    47.974290  1147609927\n",
       "51  2011  650437004  599851725  52.022944    47.977056  1250288729\n",
       "44  2004  587649479  541973977  52.021714    47.978286  1129623456\n",
       "52  2012  658421676  607361114  52.016956    47.983044  1265782790\n",
       "43  2003  578176498  533346646  52.016596    47.983404  1111523144"
      ]
     },
     "execution_count": 13,
     "metadata": {},
     "output_type": "execute_result"
    }
   ],
   "source": [
    "df.sort_values(ascending=True,by='Female ( %)').head(10)"
   ]
  },
  {
   "cell_type": "markdown",
   "metadata": {},
   "source": [
    "## Checking Correlation"
   ]
  },
  {
   "cell_type": "code",
   "execution_count": 14,
   "metadata": {
    "scrolled": true
   },
   "outputs": [
    {
     "data": {
      "text/html": [
       "<div>\n",
       "<style scoped>\n",
       "    .dataframe tbody tr th:only-of-type {\n",
       "        vertical-align: middle;\n",
       "    }\n",
       "\n",
       "    .dataframe tbody tr th {\n",
       "        vertical-align: top;\n",
       "    }\n",
       "\n",
       "    .dataframe thead th {\n",
       "        text-align: right;\n",
       "    }\n",
       "</style>\n",
       "<table border=\"1\" class=\"dataframe\">\n",
       "  <thead>\n",
       "    <tr style=\"text-align: right;\">\n",
       "      <th></th>\n",
       "      <th>Year</th>\n",
       "      <th>Male</th>\n",
       "      <th>Female</th>\n",
       "      <th>Male (%)</th>\n",
       "      <th>Female ( %)</th>\n",
       "      <th>Population</th>\n",
       "    </tr>\n",
       "  </thead>\n",
       "  <tbody>\n",
       "    <tr>\n",
       "      <th>Year</th>\n",
       "      <td>1.000000</td>\n",
       "      <td>0.997777</td>\n",
       "      <td>0.997838</td>\n",
       "      <td>0.946535</td>\n",
       "      <td>-0.946535</td>\n",
       "      <td>0.997808</td>\n",
       "    </tr>\n",
       "    <tr>\n",
       "      <th>Male</th>\n",
       "      <td>0.997777</td>\n",
       "      <td>1.000000</td>\n",
       "      <td>0.999993</td>\n",
       "      <td>0.936990</td>\n",
       "      <td>-0.936990</td>\n",
       "      <td>0.999998</td>\n",
       "    </tr>\n",
       "    <tr>\n",
       "      <th>Female</th>\n",
       "      <td>0.997838</td>\n",
       "      <td>0.999993</td>\n",
       "      <td>1.000000</td>\n",
       "      <td>0.936131</td>\n",
       "      <td>-0.936131</td>\n",
       "      <td>0.999998</td>\n",
       "    </tr>\n",
       "    <tr>\n",
       "      <th>Male (%)</th>\n",
       "      <td>0.946535</td>\n",
       "      <td>0.936990</td>\n",
       "      <td>0.936131</td>\n",
       "      <td>1.000000</td>\n",
       "      <td>-1.000000</td>\n",
       "      <td>0.936581</td>\n",
       "    </tr>\n",
       "    <tr>\n",
       "      <th>Female ( %)</th>\n",
       "      <td>-0.946535</td>\n",
       "      <td>-0.936990</td>\n",
       "      <td>-0.936131</td>\n",
       "      <td>-1.000000</td>\n",
       "      <td>1.000000</td>\n",
       "      <td>-0.936581</td>\n",
       "    </tr>\n",
       "    <tr>\n",
       "      <th>Population</th>\n",
       "      <td>0.997808</td>\n",
       "      <td>0.999998</td>\n",
       "      <td>0.999998</td>\n",
       "      <td>0.936581</td>\n",
       "      <td>-0.936581</td>\n",
       "      <td>1.000000</td>\n",
       "    </tr>\n",
       "  </tbody>\n",
       "</table>\n",
       "</div>"
      ],
      "text/plain": [
       "                 Year      Male    Female  Male (%)  Female ( %)  Population\n",
       "Year         1.000000  0.997777  0.997838  0.946535    -0.946535    0.997808\n",
       "Male         0.997777  1.000000  0.999993  0.936990    -0.936990    0.999998\n",
       "Female       0.997838  0.999993  1.000000  0.936131    -0.936131    0.999998\n",
       "Male (%)     0.946535  0.936990  0.936131  1.000000    -1.000000    0.936581\n",
       "Female ( %) -0.946535 -0.936990 -0.936131 -1.000000     1.000000   -0.936581\n",
       "Population   0.997808  0.999998  0.999998  0.936581    -0.936581    1.000000"
      ]
     },
     "execution_count": 14,
     "metadata": {},
     "output_type": "execute_result"
    }
   ],
   "source": [
    "df.corr()"
   ]
  },
  {
   "cell_type": "code",
   "execution_count": 15,
   "metadata": {},
   "outputs": [
    {
     "data": {
      "text/plain": [
       "<AxesSubplot:>"
      ]
     },
     "execution_count": 15,
     "metadata": {},
     "output_type": "execute_result"
    },
    {
     "data": {
      "image/png": "[encoded data removed]",
      "text/plain": [
       "<Figure size 432x288 with 2 Axes>"
      ]
     },
     "metadata": {
      "needs_background": "light"
     },
     "output_type": "display_data"
    }
   ],
   "source": [
    "sns.heatmap(df.corr())"
   ]
  },
  {
   "cell_type": "markdown",
   "metadata": {},
   "source": [
    "## Statistical Summary of the Data"
   ]
  },
  {
   "cell_type": "code",
   "execution_count": 16,
   "metadata": {
    "scrolled": true
   },
   "outputs": [
    {
     "data": {
      "text/html": [
       "<div>\n",
       "<style scoped>\n",
       "    .dataframe tbody tr th:only-of-type {\n",
       "        vertical-align: middle;\n",
       "    }\n",
       "\n",
       "    .dataframe tbody tr th {\n",
       "        vertical-align: top;\n",
       "    }\n",
       "\n",
       "    .dataframe thead th {\n",
       "        text-align: right;\n",
       "    }\n",
       "</style>\n",
       "<table border=\"1\" class=\"dataframe\">\n",
       "  <thead>\n",
       "    <tr style=\"text-align: right;\">\n",
       "      <th></th>\n",
       "      <th>Year</th>\n",
       "      <th>Male</th>\n",
       "      <th>Female</th>\n",
       "      <th>Male (%)</th>\n",
       "      <th>Female ( %)</th>\n",
       "      <th>Population</th>\n",
       "    </tr>\n",
       "  </thead>\n",
       "  <tbody>\n",
       "    <tr>\n",
       "      <th>count</th>\n",
       "      <td>60.000000</td>\n",
       "      <td>6.000000e+01</td>\n",
       "      <td>6.000000e+01</td>\n",
       "      <td>60.000000</td>\n",
       "      <td>60.000000</td>\n",
       "      <td>6.000000e+01</td>\n",
       "    </tr>\n",
       "    <tr>\n",
       "      <th>mean</th>\n",
       "      <td>1989.500000</td>\n",
       "      <td>4.572280e+08</td>\n",
       "      <td>4.233588e+08</td>\n",
       "      <td>51.887464</td>\n",
       "      <td>48.112536</td>\n",
       "      <td>8.805867e+08</td>\n",
       "    </tr>\n",
       "    <tr>\n",
       "      <th>std</th>\n",
       "      <td>17.464249</td>\n",
       "      <td>1.505517e+08</td>\n",
       "      <td>1.377958e+08</td>\n",
       "      <td>0.118182</td>\n",
       "      <td>0.118182</td>\n",
       "      <td>2.883470e+08</td>\n",
       "    </tr>\n",
       "    <tr>\n",
       "      <th>min</th>\n",
       "      <td>1960.000000</td>\n",
       "      <td>2.325047e+08</td>\n",
       "      <td>2.180429e+08</td>\n",
       "      <td>51.604914</td>\n",
       "      <td>47.968958</td>\n",
       "      <td>4.505477e+08</td>\n",
       "    </tr>\n",
       "    <tr>\n",
       "      <th>25%</th>\n",
       "      <td>1974.750000</td>\n",
       "      <td>3.210134e+08</td>\n",
       "      <td>2.985145e+08</td>\n",
       "      <td>51.814969</td>\n",
       "      <td>48.003944</td>\n",
       "      <td>6.195278e+08</td>\n",
       "    </tr>\n",
       "    <tr>\n",
       "      <th>50%</th>\n",
       "      <td>1989.500000</td>\n",
       "      <td>4.485546e+08</td>\n",
       "      <td>4.157517e+08</td>\n",
       "      <td>51.897588</td>\n",
       "      <td>48.102412</td>\n",
       "      <td>8.643062e+08</td>\n",
       "    </tr>\n",
       "    <tr>\n",
       "      <th>75%</th>\n",
       "      <td>2004.250000</td>\n",
       "      <td>5.900002e+08</td>\n",
       "      <td>5.441199e+08</td>\n",
       "      <td>51.996056</td>\n",
       "      <td>48.185031</td>\n",
       "      <td>1.134120e+09</td>\n",
       "    </tr>\n",
       "    <tr>\n",
       "      <th>max</th>\n",
       "      <td>2019.000000</td>\n",
       "      <td>7.101296e+08</td>\n",
       "      <td>6.562882e+08</td>\n",
       "      <td>52.031042</td>\n",
       "      <td>48.395086</td>\n",
       "      <td>1.366418e+09</td>\n",
       "    </tr>\n",
       "  </tbody>\n",
       "</table>\n",
       "</div>"
      ],
      "text/plain": [
       "              Year          Male        Female   Male (%)  Female ( %)  \\\n",
       "count    60.000000  6.000000e+01  6.000000e+01  60.000000    60.000000   \n",
       "mean   1989.500000  4.572280e+08  4.233588e+08  51.887464    48.112536   \n",
       "std      17.464249  1.505517e+08  1.377958e+08   0.118182     0.118182   \n",
       "min    1960.000000  2.325047e+08  2.180429e+08  51.604914    47.968958   \n",
       "25%    1974.750000  3.210134e+08  2.985145e+08  51.814969    48.003944   \n",
       "50%    1989.500000  4.485546e+08  4.157517e+08  51.897588    48.102412   \n",
       "75%    2004.250000  5.900002e+08  5.441199e+08  51.996056    48.185031   \n",
       "max    2019.000000  7.101296e+08  6.562882e+08  52.031042    48.395086   \n",
       "\n",
       "         Population  \n",
       "count  6.000000e+01  \n",
       "mean   8.805867e+08  \n",
       "std    2.883470e+08  \n",
       "min    4.505477e+08  \n",
       "25%    6.195278e+08  \n",
       "50%    8.643062e+08  \n",
       "75%    1.134120e+09  \n",
       "max    1.366418e+09  "
      ]
     },
     "execution_count": 16,
     "metadata": {},
     "output_type": "execute_result"
    }
   ],
   "source": [
    "df.describe()"
   ]
  },
  {
   "cell_type": "code",
   "execution_count": 17,
   "metadata": {},
   "outputs": [
    {
     "data": {
      "text/plain": [
       "<AxesSubplot:xlabel='Year', ylabel='Population'>"
      ]
     },
     "execution_count": 17,
     "metadata": {},
     "output_type": "execute_result"
    },
    {
     "data": {
      "image/png": "[encoded data removed]",
      "text/plain": [
       "<Figure size 432x288 with 1 Axes>"
      ]
     },
     "metadata": {
      "needs_background": "light"
     },
     "output_type": "display_data"
    }
   ],
   "source": [
    "sns.regplot(x='Year',y='Population',data=df)"
   ]
  },
  {
   "cell_type": "code",
   "execution_count": 18,
   "metadata": {},
   "outputs": [
    {
     "data": {
      "text/plain": [
       "<seaborn.axisgrid.PairGrid at 0x20e76fca5e0>"
      ]
     },
     "execution_count": 18,
     "metadata": {},
     "output_type": "execute_result"
    },
    {
     "data": {
      "image/png": "[encoded data removed]",
      "text/plain": [
       "<Figure size 777.6x777.6 with 42 Axes>"
      ]
     },
     "metadata": {
      "needs_background": "light"
     },
     "output_type": "display_data"
    }
   ],
   "source": [
    "sns.pairplot(df,height=1.8)"
   ]
  }
 ],
 "metadata": {
  "kernelspec": {
   "display_name": "Python 3",
   "language": "python",
   "name": "python3"
  },
  "language_info": {
   "codemirror_mode": {
    "name": "ipython",
    "version": 3
   },
   "file_extension": ".py",
   "mimetype": "text/x-python",
   "name": "python",
   "nbconvert_exporter": "python",
   "pygments_lexer": "ipython3",
   "version": "3.8.5"
  }
 },
 "nbformat": 4,
 "nbformat_minor": 4
}

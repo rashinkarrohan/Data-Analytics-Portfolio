{
 "cells": [
  {
   "cell_type": "markdown",
   "metadata": {},
   "source": [
    "## Importing Libraries"
   ]
  },
  {
   "cell_type": "code",
   "execution_count": 1,
   "metadata": {},
   "outputs": [],
   "source": [
    "import pandas as pd\n",
    "import seaborn as sns\n",
    "import matplotlib.pyplot as plt"
   ]
  },
  {
   "cell_type": "markdown",
   "metadata": {},
   "source": [
    "## Importing Dataset.\n",
    "\n",
    "Here,we have used the Population Dataset of World Bank."
   ]
  },
  {
   "cell_type": "code",
   "execution_count": 2,
   "metadata": {},
   "outputs": [],
   "source": [
    "df = pd.read_csv('Population_Database.csv')"
   ]
  },
  {
   "cell_type": "code",
   "execution_count": 3,
   "metadata": {
    "scrolled": true
   },
   "outputs": [
    {
     "data": {
      "text/html": [
       "<div>\n",
       "<style scoped>\n",
       "    .dataframe tbody tr th:only-of-type {\n",
       "        vertical-align: middle;\n",
       "    }\n",
       "\n",
       "    .dataframe tbody tr th {\n",
       "        vertical-align: top;\n",
       "    }\n",
       "\n",
       "    .dataframe thead th {\n",
       "        text-align: right;\n",
       "    }\n",
       "</style>\n",
       "<table border=\"1\" class=\"dataframe\">\n",
       "  <thead>\n",
       "    <tr style=\"text-align: right;\">\n",
       "      <th></th>\n",
       "      <th>Country</th>\n",
       "      <th>Male</th>\n",
       "      <th>Female</th>\n",
       "      <th>Male (%)</th>\n",
       "      <th>Female ( %)</th>\n",
       "      <th>Population</th>\n",
       "    </tr>\n",
       "  </thead>\n",
       "  <tbody>\n",
       "    <tr>\n",
       "      <th>0</th>\n",
       "      <td>1960 [YR1960]</td>\n",
       "      <td>232504741</td>\n",
       "      <td>218042938</td>\n",
       "      <td>51.604914</td>\n",
       "      <td>48.395086</td>\n",
       "      <td>450547679</td>\n",
       "    </tr>\n",
       "    <tr>\n",
       "      <th>1</th>\n",
       "      <td>1961 [YR1961]</td>\n",
       "      <td>237313421</td>\n",
       "      <td>222328744</td>\n",
       "      <td>51.630037</td>\n",
       "      <td>48.369963</td>\n",
       "      <td>459642165</td>\n",
       "    </tr>\n",
       "    <tr>\n",
       "      <th>2</th>\n",
       "      <td>1962 [YR1962]</td>\n",
       "      <td>242296454</td>\n",
       "      <td>226780736</td>\n",
       "      <td>51.653856</td>\n",
       "      <td>48.346144</td>\n",
       "      <td>469077190</td>\n",
       "    </tr>\n",
       "    <tr>\n",
       "      <th>3</th>\n",
       "      <td>1963 [YR1963]</td>\n",
       "      <td>247438411</td>\n",
       "      <td>231387197</td>\n",
       "      <td>51.676102</td>\n",
       "      <td>48.323898</td>\n",
       "      <td>478825608</td>\n",
       "    </tr>\n",
       "    <tr>\n",
       "      <th>4</th>\n",
       "      <td>1964 [YR1964]</td>\n",
       "      <td>252717316</td>\n",
       "      <td>236130819</td>\n",
       "      <td>51.696488</td>\n",
       "      <td>48.303512</td>\n",
       "      <td>488848135</td>\n",
       "    </tr>\n",
       "  </tbody>\n",
       "</table>\n",
       "</div>"
      ],
      "text/plain": [
       "         Country       Male     Female   Male (%)  Female ( %)  Population\n",
       "0  1960 [YR1960]  232504741  218042938  51.604914    48.395086   450547679\n",
       "1  1961 [YR1961]  237313421  222328744  51.630037    48.369963   459642165\n",
       "2  1962 [YR1962]  242296454  226780736  51.653856    48.346144   469077190\n",
       "3  1963 [YR1963]  247438411  231387197  51.676102    48.323898   478825608\n",
       "4  1964 [YR1964]  252717316  236130819  51.696488    48.303512   488848135"
      ]
     },
     "execution_count": 3,
     "metadata": {},
     "output_type": "execute_result"
    }
   ],
   "source": [
    "df.head()"
   ]
  },
  {
   "cell_type": "markdown",
   "metadata": {},
   "source": [
    "## Null Values"
   ]
  },
  {
   "cell_type": "code",
   "execution_count": 4,
   "metadata": {
    "scrolled": false
   },
   "outputs": [
    {
     "data": {
      "text/plain": [
       "Country        0\n",
       "Male           0\n",
       "Female         0\n",
       "Male (%)       0\n",
       "Female ( %)    0\n",
       "Population     0\n",
       "dtype: int64"
      ]
     },
     "execution_count": 4,
     "metadata": {},
     "output_type": "execute_result"
    }
   ],
   "source": [
    "df.isnull().sum()"
   ]
  },
  {
   "cell_type": "markdown",
   "metadata": {},
   "source": [
    "## Renaming the column *Country* to *Year*"
   ]
  },
  {
   "cell_type": "code",
   "execution_count": 5,
   "metadata": {},
   "outputs": [],
   "source": [
    "df.rename(columns={'Country' : 'Year'},inplace=True)"
   ]
  },
  {
   "cell_type": "code",
   "execution_count": 6,
   "metadata": {
    "scrolled": true
   },
   "outputs": [
    {
     "data": {
      "text/html": [
       "<div>\n",
       "<style scoped>\n",
       "    .dataframe tbody tr th:only-of-type {\n",
       "        vertical-align: middle;\n",
       "    }\n",
       "\n",
       "    .dataframe tbody tr th {\n",
       "        vertical-align: top;\n",
       "    }\n",
       "\n",
       "    .dataframe thead th {\n",
       "        text-align: right;\n",
       "    }\n",
       "</style>\n",
       "<table border=\"1\" class=\"dataframe\">\n",
       "  <thead>\n",
       "    <tr style=\"text-align: right;\">\n",
       "      <th></th>\n",
       "      <th>Year</th>\n",
       "      <th>Male</th>\n",
       "      <th>Female</th>\n",
       "      <th>Male (%)</th>\n",
       "      <th>Female ( %)</th>\n",
       "      <th>Population</th>\n",
       "    </tr>\n",
       "  </thead>\n",
       "  <tbody>\n",
       "    <tr>\n",
       "      <th>0</th>\n",
       "      <td>1960 [YR1960]</td>\n",
       "      <td>232504741</td>\n",
       "      <td>218042938</td>\n",
       "      <td>51.604914</td>\n",
       "      <td>48.395086</td>\n",
       "      <td>450547679</td>\n",
       "    </tr>\n",
       "    <tr>\n",
       "      <th>1</th>\n",
       "      <td>1961 [YR1961]</td>\n",
       "      <td>237313421</td>\n",
       "      <td>222328744</td>\n",
       "      <td>51.630037</td>\n",
       "      <td>48.369963</td>\n",
       "      <td>459642165</td>\n",
       "    </tr>\n",
       "    <tr>\n",
       "      <th>2</th>\n",
       "      <td>1962 [YR1962]</td>\n",
       "      <td>242296454</td>\n",
       "      <td>226780736</td>\n",
       "      <td>51.653856</td>\n",
       "      <td>48.346144</td>\n",
       "      <td>469077190</td>\n",
       "    </tr>\n",
       "    <tr>\n",
       "      <th>3</th>\n",
       "      <td>1963 [YR1963]</td>\n",
       "      <td>247438411</td>\n",
       "      <td>231387197</td>\n",
       "      <td>51.676102</td>\n",
       "      <td>48.323898</td>\n",
       "      <td>478825608</td>\n",
       "    </tr>\n",
       "    <tr>\n",
       "      <th>4</th>\n",
       "      <td>1964 [YR1964]</td>\n",
       "      <td>252717316</td>\n",
       "      <td>236130819</td>\n",
       "      <td>51.696488</td>\n",
       "      <td>48.303512</td>\n",
       "      <td>488848135</td>\n",
       "    </tr>\n",
       "  </tbody>\n",
       "</table>\n",
       "</div>"
      ],
      "text/plain": [
       "            Year       Male     Female   Male (%)  Female ( %)  Population\n",
       "0  1960 [YR1960]  232504741  218042938  51.604914    48.395086   450547679\n",
       "1  1961 [YR1961]  237313421  222328744  51.630037    48.369963   459642165\n",
       "2  1962 [YR1962]  242296454  226780736  51.653856    48.346144   469077190\n",
       "3  1963 [YR1963]  247438411  231387197  51.676102    48.323898   478825608\n",
       "4  1964 [YR1964]  252717316  236130819  51.696488    48.303512   488848135"
      ]
     },
     "execution_count": 6,
     "metadata": {},
     "output_type": "execute_result"
    }
   ],
   "source": [
    "df.head()"
   ]
  },
  {
   "cell_type": "code",
   "execution_count": 7,
   "metadata": {},
   "outputs": [],
   "source": [
    "df['Year'] = df.Year.str.split(\" \",expand=True)"
   ]
  },
  {
   "cell_type": "code",
   "execution_count": 8,
   "metadata": {},
   "outputs": [
    {
     "data": {
      "text/html": [
       "<div>\n",
       "<style scoped>\n",
       "    .dataframe tbody tr th:only-of-type {\n",
       "        vertical-align: middle;\n",
       "    }\n",
       "\n",
       "    .dataframe tbody tr th {\n",
       "        vertical-align: top;\n",
       "    }\n",
       "\n",
       "    .dataframe thead th {\n",
       "        text-align: right;\n",
       "    }\n",
       "</style>\n",
       "<table border=\"1\" class=\"dataframe\">\n",
       "  <thead>\n",
       "    <tr style=\"text-align: right;\">\n",
       "      <th></th>\n",
       "      <th>Year</th>\n",
       "      <th>Male</th>\n",
       "      <th>Female</th>\n",
       "      <th>Male (%)</th>\n",
       "      <th>Female ( %)</th>\n",
       "      <th>Population</th>\n",
       "    </tr>\n",
       "  </thead>\n",
       "  <tbody>\n",
       "    <tr>\n",
       "      <th>0</th>\n",
       "      <td>1960</td>\n",
       "      <td>232504741</td>\n",
       "      <td>218042938</td>\n",
       "      <td>51.604914</td>\n",
       "      <td>48.395086</td>\n",
       "      <td>450547679</td>\n",
       "    </tr>\n",
       "    <tr>\n",
       "      <th>1</th>\n",
       "      <td>1961</td>\n",
       "      <td>237313421</td>\n",
       "      <td>222328744</td>\n",
       "      <td>51.630037</td>\n",
       "      <td>48.369963</td>\n",
       "      <td>459642165</td>\n",
       "    </tr>\n",
       "    <tr>\n",
       "      <th>2</th>\n",
       "      <td>1962</td>\n",
       "      <td>242296454</td>\n",
       "      <td>226780736</td>\n",
       "      <td>51.653856</td>\n",
       "      <td>48.346144</td>\n",
       "      <td>469077190</td>\n",
       "    </tr>\n",
       "    <tr>\n",
       "      <th>3</th>\n",
       "      <td>1963</td>\n",
       "      <td>247438411</td>\n",
       "      <td>231387197</td>\n",
       "      <td>51.676102</td>\n",
       "      <td>48.323898</td>\n",
       "      <td>478825608</td>\n",
       "    </tr>\n",
       "    <tr>\n",
       "      <th>4</th>\n",
       "      <td>1964</td>\n",
       "      <td>252717316</td>\n",
       "      <td>236130819</td>\n",
       "      <td>51.696488</td>\n",
       "      <td>48.303512</td>\n",
       "      <td>488848135</td>\n",
       "    </tr>\n",
       "  </tbody>\n",
       "</table>\n",
       "</div>"
      ],
      "text/plain": [
       "   Year       Male     Female   Male (%)  Female ( %)  Population\n",
       "0  1960  232504741  218042938  51.604914    48.395086   450547679\n",
       "1  1961  237313421  222328744  51.630037    48.369963   459642165\n",
       "2  1962  242296454  226780736  51.653856    48.346144   469077190\n",
       "3  1963  247438411  231387197  51.676102    48.323898   478825608\n",
       "4  1964  252717316  236130819  51.696488    48.303512   488848135"
      ]
     },
     "execution_count": 8,
     "metadata": {},
     "output_type": "execute_result"
    }
   ],
   "source": [
    "df.head()"
   ]
  },
  {
   "cell_type": "code",
   "execution_count": 9,
   "metadata": {},
   "outputs": [],
   "source": [
    "df.to_csv('../3. Exploratory Data Analysis/Population.csv')\n",
    "df.to_csv('../4. Model Building/Population.csv')"
   ]
  }
 ],
 "metadata": {
  "kernelspec": {
   "display_name": "Python 3",
   "language": "python",
   "name": "python3"
  },
  "language_info": {
   "codemirror_mode": {
    "name": "ipython",
    "version": 3
   },
   "file_extension": ".py",
   "mimetype": "text/x-python",
   "name": "python",
   "nbconvert_exporter": "python",
   "pygments_lexer": "ipython3",
   "version": "3.8.5"
  }
 },
 "nbformat": 4,
 "nbformat_minor": 4
}

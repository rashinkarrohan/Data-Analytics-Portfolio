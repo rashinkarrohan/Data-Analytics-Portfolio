{
 "cells": [
  {
   "cell_type": "markdown",
   "metadata": {},
   "source": [
    "Things to Perform \n",
    "\n",
    "1.) Handling Missing Data.\n",
    "\n",
    "2.) Date Formating.\n",
    "\n",
    "3.) Removing Duplicates."
   ]
  },
  {
   "cell_type": "markdown",
   "metadata": {},
   "source": [
    "**Importing the Libraries**"
   ]
  },
  {
   "cell_type": "code",
   "execution_count": 24,
   "metadata": {},
   "outputs": [],
   "source": [
    "import pandas as pd\n",
    "import seaborn as sns\n",
    "import numpy as np"
   ]
  },
  {
   "cell_type": "markdown",
   "metadata": {},
   "source": [
    "**Importing Data**"
   ]
  },
  {
   "cell_type": "code",
   "execution_count": 25,
   "metadata": {},
   "outputs": [],
   "source": [
    "df = pd.read_csv('US_Database.csv')"
   ]
  },
  {
   "cell_type": "markdown",
   "metadata": {},
   "source": [
    "**Number of rows and Columsn in the Data.**"
   ]
  },
  {
   "cell_type": "code",
   "execution_count": 26,
   "metadata": {},
   "outputs": [
    {
     "data": {
      "text/plain": [
       "(2498, 21)"
      ]
     },
     "execution_count": 26,
     "metadata": {},
     "output_type": "execute_result"
    }
   ],
   "source": [
    "df.shape"
   ]
  },
  {
   "cell_type": "markdown",
   "metadata": {},
   "source": [
    "**Identifying the Datatype of the Column.** "
   ]
  },
  {
   "cell_type": "code",
   "execution_count": 27,
   "metadata": {},
   "outputs": [
    {
     "name": "stdout",
     "output_type": "stream",
     "text": [
      "<class 'pandas.core.frame.DataFrame'>\n",
      "RangeIndex: 2498 entries, 0 to 2497\n",
      "Data columns (total 21 columns):\n",
      " #   Column                                Non-Null Count  Dtype  \n",
      "---  ------                                --------------  -----  \n",
      " 0   Unique Investment Identifier          2498 non-null   object \n",
      " 1   Business Case ID                      2474 non-null   float64\n",
      " 2   Agency Code                           2474 non-null   float64\n",
      " 3   Agency Name                           2474 non-null   object \n",
      " 4   Investment Title                      2474 non-null   object \n",
      " 5   Project ID                            2474 non-null   float64\n",
      " 6   Project Name                          2474 non-null   object \n",
      " 7   Project Description                   2474 non-null   object \n",
      " 8   Start Date                            2457 non-null   object \n",
      " 9   Completion Date (B1)                  2457 non-null   object \n",
      " 10  Planned Project Completion Date (B2)  1546 non-null   object \n",
      " 11  Lifecycle Cost                        2481 non-null   float64\n",
      " 12  Schedule Variance (in days)           2481 non-null   float64\n",
      " 13  Schedule Variance (%)                 2481 non-null   float64\n",
      " 14  Cost Variance ($ M)                   2481 non-null   float64\n",
      " 15  Cost Variance (%)                     2481 non-null   float64\n",
      " 16  Planned Cost ($ M)                    2481 non-null   float64\n",
      " 17  Projected/Actual Cost ($ M)           2481 non-null   float64\n",
      " 18  Updated Date                          2474 non-null   object \n",
      " 19  Updated Time                          2474 non-null   object \n",
      " 20  Unique Project ID                     2474 non-null   object \n",
      "dtypes: float64(10), object(11)\n",
      "memory usage: 410.0+ KB\n"
     ]
    }
   ],
   "source": [
    "df.info()"
   ]
  },
  {
   "cell_type": "markdown",
   "metadata": {},
   "source": [
    "## Missing Values "
   ]
  },
  {
   "cell_type": "markdown",
   "metadata": {},
   "source": [
    "**How many Null Values are their in each column?**"
   ]
  },
  {
   "cell_type": "code",
   "execution_count": 28,
   "metadata": {},
   "outputs": [
    {
     "data": {
      "text/plain": [
       "Planned Project Completion Date (B2)    952\n",
       "Completion Date (B1)                     41\n",
       "Start Date                               41\n",
       "Business Case ID                         24\n",
       "Agency Code                              24\n",
       "Agency Name                              24\n",
       "Investment Title                         24\n",
       "Project ID                               24\n",
       "Project Name                             24\n",
       "Project Description                      24\n",
       "Unique Project ID                        24\n",
       "Updated Time                             24\n",
       "Updated Date                             24\n",
       "Lifecycle Cost                           17\n",
       "Schedule Variance (in days)              17\n",
       "Schedule Variance (%)                    17\n",
       "Cost Variance ($ M)                      17\n",
       "Cost Variance (%)                        17\n",
       "Planned Cost ($ M)                       17\n",
       "Projected/Actual Cost ($ M)              17\n",
       "Unique Investment Identifier              0\n",
       "dtype: int64"
      ]
     },
     "execution_count": 28,
     "metadata": {},
     "output_type": "execute_result"
    }
   ],
   "source": [
    "df.isnull().sum().sort_values(ascending=False)"
   ]
  },
  {
   "cell_type": "code",
   "execution_count": 29,
   "metadata": {},
   "outputs": [
    {
     "data": {
      "text/html": [
       "<div>\n",
       "<style scoped>\n",
       "    .dataframe tbody tr th:only-of-type {\n",
       "        vertical-align: middle;\n",
       "    }\n",
       "\n",
       "    .dataframe tbody tr th {\n",
       "        vertical-align: top;\n",
       "    }\n",
       "\n",
       "    .dataframe thead th {\n",
       "        text-align: right;\n",
       "    }\n",
       "</style>\n",
       "<table border=\"1\" class=\"dataframe\">\n",
       "  <thead>\n",
       "    <tr style=\"text-align: right;\">\n",
       "      <th></th>\n",
       "      <th>Planned Project Completion Date (B2)</th>\n",
       "      <th>Completion Date (B1)</th>\n",
       "    </tr>\n",
       "  </thead>\n",
       "  <tbody>\n",
       "    <tr>\n",
       "      <th>0</th>\n",
       "      <td>NaN</td>\n",
       "      <td>30-09-2012</td>\n",
       "    </tr>\n",
       "    <tr>\n",
       "      <th>1</th>\n",
       "      <td>31-03-2012</td>\n",
       "      <td>31-03-2012</td>\n",
       "    </tr>\n",
       "    <tr>\n",
       "      <th>2</th>\n",
       "      <td>NaN</td>\n",
       "      <td>30-09-2012</td>\n",
       "    </tr>\n",
       "    <tr>\n",
       "      <th>3</th>\n",
       "      <td>NaN</td>\n",
       "      <td>30-09-2012</td>\n",
       "    </tr>\n",
       "    <tr>\n",
       "      <th>4</th>\n",
       "      <td>30-09-2011</td>\n",
       "      <td>30-09-2011</td>\n",
       "    </tr>\n",
       "  </tbody>\n",
       "</table>\n",
       "</div>"
      ],
      "text/plain": [
       "  Planned Project Completion Date (B2) Completion Date (B1)\n",
       "0                                  NaN           30-09-2012\n",
       "1                           31-03-2012           31-03-2012\n",
       "2                                  NaN           30-09-2012\n",
       "3                                  NaN           30-09-2012\n",
       "4                           30-09-2011           30-09-2011"
      ]
     },
     "execution_count": 29,
     "metadata": {},
     "output_type": "execute_result"
    }
   ],
   "source": [
    "df[['Planned Project Completion Date (B2)','Completion Date (B1)']].head()"
   ]
  },
  {
   "cell_type": "markdown",
   "metadata": {},
   "source": [
    "After Comparing the Above two columns it seems like Completion Date (B1)  && Planned Project Completion Date (B2) are equal\n",
    "\n",
    "Lets compare both columns"
   ]
  },
  {
   "cell_type": "code",
   "execution_count": 30,
   "metadata": {},
   "outputs": [],
   "source": [
    "df.dropna(subset=['Planned Project Completion Date (B2)','Completion Date (B1)'],how = 'all',inplace=True)"
   ]
  },
  {
   "cell_type": "code",
   "execution_count": 31,
   "metadata": {},
   "outputs": [
    {
     "data": {
      "text/plain": [
       "(2457, 21)"
      ]
     },
     "execution_count": 31,
     "metadata": {},
     "output_type": "execute_result"
    }
   ],
   "source": [
    "df.shape"
   ]
  },
  {
   "cell_type": "code",
   "execution_count": 32,
   "metadata": {},
   "outputs": [],
   "source": [
    "compare_data = np.where(df['Completion Date (B1)'] != df['Planned Project Completion Date (B2)'],1,0)"
   ]
  },
  {
   "cell_type": "code",
   "execution_count": 33,
   "metadata": {},
   "outputs": [],
   "source": [
    "df['Comp'] = compare_data"
   ]
  },
  {
   "cell_type": "code",
   "execution_count": 34,
   "metadata": {
    "scrolled": true
   },
   "outputs": [
    {
     "data": {
      "text/plain": [
       "1    1419\n",
       "0    1038\n",
       "Name: Comp, dtype: int64"
      ]
     },
     "execution_count": 34,
     "metadata": {},
     "output_type": "execute_result"
    }
   ],
   "source": [
    "df['Comp'].value_counts()"
   ]
  },
  {
   "cell_type": "code",
   "execution_count": 35,
   "metadata": {},
   "outputs": [
    {
     "data": {
      "text/plain": [
       "Unique Investment Identifier              0\n",
       "Business Case ID                          0\n",
       "Agency Code                               0\n",
       "Agency Name                               0\n",
       "Investment Title                          0\n",
       "Project ID                                0\n",
       "Project Name                              0\n",
       "Project Description                       0\n",
       "Start Date                                0\n",
       "Completion Date (B1)                      0\n",
       "Planned Project Completion Date (B2)    911\n",
       "Lifecycle Cost                            0\n",
       "Schedule Variance (in days)               0\n",
       "Schedule Variance (%)                     0\n",
       "Cost Variance ($ M)                       0\n",
       "Cost Variance (%)                         0\n",
       "Planned Cost ($ M)                        0\n",
       "Projected/Actual Cost ($ M)               0\n",
       "Updated Date                              0\n",
       "Updated Time                              0\n",
       "Unique Project ID                         0\n",
       "Comp                                      0\n",
       "dtype: int64"
      ]
     },
     "execution_count": 35,
     "metadata": {},
     "output_type": "execute_result"
    }
   ],
   "source": [
    "df.isnull().sum()"
   ]
  },
  {
   "cell_type": "code",
   "execution_count": 36,
   "metadata": {},
   "outputs": [
    {
     "name": "stdout",
     "output_type": "stream",
     "text": [
      "After Comparing different records are :  506\n"
     ]
    }
   ],
   "source": [
    "print('After Comparing different records are : ',1410 - 904)"
   ]
  },
  {
   "cell_type": "markdown",
   "metadata": {},
   "source": [
    "So it shows that majority of the Planned Project Completion Date (B2) is same as Completion Date (B1) and \n",
    "\n",
    "So we will impute NAN Values in Planned Project Completion Date same as of the Completion Date."
   ]
  },
  {
   "cell_type": "code",
   "execution_count": 37,
   "metadata": {},
   "outputs": [],
   "source": [
    "df['Planned Project Completion Date (B2)'].fillna(df['Completion Date (B1)'],inplace=True)"
   ]
  },
  {
   "cell_type": "markdown",
   "metadata": {},
   "source": [
    "# Formating the Date "
   ]
  },
  {
   "cell_type": "code",
   "execution_count": 38,
   "metadata": {
    "scrolled": true
   },
   "outputs": [],
   "source": [
    "df['new_Planned_Project_Completion_Date'] = pd.to_datetime(df['Planned Project Completion Date (B2)'])\n",
    "df['new_Completion_Date'] = pd.to_datetime(df['Completion Date (B1)'])"
   ]
  },
  {
   "cell_type": "code",
   "execution_count": 39,
   "metadata": {},
   "outputs": [],
   "source": [
    "df.drop(columns=['Comp','Completion Date (B1)','Planned Project Completion Date (B2)'],axis=1,inplace=True)"
   ]
  },
  {
   "cell_type": "code",
   "execution_count": 40,
   "metadata": {},
   "outputs": [
    {
     "data": {
      "text/plain": [
       "Index(['Unique Investment Identifier', 'Business Case ID', 'Agency Code',\n",
       "       'Agency Name', 'Investment Title', 'Project ID', 'Project Name',\n",
       "       'Project Description', 'Start Date', 'Lifecycle Cost',\n",
       "       'Schedule Variance (in days)', 'Schedule Variance (%)',\n",
       "       'Cost Variance ($ M)', 'Cost Variance (%)', 'Planned Cost ($ M)',\n",
       "       'Projected/Actual Cost ($ M)', 'Updated Date', 'Updated Time',\n",
       "       'Unique Project ID', 'new_Planned_Project_Completion_Date',\n",
       "       'new_Completion_Date'],\n",
       "      dtype='object')"
      ]
     },
     "execution_count": 40,
     "metadata": {},
     "output_type": "execute_result"
    }
   ],
   "source": [
    "df.columns"
   ]
  },
  {
   "cell_type": "markdown",
   "metadata": {},
   "source": [
    "## Finding Duplicates Rows & Removing Them"
   ]
  },
  {
   "cell_type": "markdown",
   "metadata": {},
   "source": [
    "first : Mark duplicates as True except for the first occurrence.\n",
    "\n",
    "last : Mark duplicates as True except for the last occurrence.\n",
    "\n",
    "False : Mark all duplicates as True."
   ]
  },
  {
   "cell_type": "code",
   "execution_count": 41,
   "metadata": {},
   "outputs": [
    {
     "data": {
      "text/html": [
       "<div>\n",
       "<style scoped>\n",
       "    .dataframe tbody tr th:only-of-type {\n",
       "        vertical-align: middle;\n",
       "    }\n",
       "\n",
       "    .dataframe tbody tr th {\n",
       "        vertical-align: top;\n",
       "    }\n",
       "\n",
       "    .dataframe thead th {\n",
       "        text-align: right;\n",
       "    }\n",
       "</style>\n",
       "<table border=\"1\" class=\"dataframe\">\n",
       "  <thead>\n",
       "    <tr style=\"text-align: right;\">\n",
       "      <th></th>\n",
       "      <th>Unique Investment Identifier</th>\n",
       "      <th>Business Case ID</th>\n",
       "      <th>Agency Code</th>\n",
       "      <th>Agency Name</th>\n",
       "      <th>Investment Title</th>\n",
       "      <th>Project ID</th>\n",
       "      <th>Project Name</th>\n",
       "      <th>Project Description</th>\n",
       "      <th>Start Date</th>\n",
       "      <th>Lifecycle Cost</th>\n",
       "      <th>...</th>\n",
       "      <th>Schedule Variance (%)</th>\n",
       "      <th>Cost Variance ($ M)</th>\n",
       "      <th>Cost Variance (%)</th>\n",
       "      <th>Planned Cost ($ M)</th>\n",
       "      <th>Projected/Actual Cost ($ M)</th>\n",
       "      <th>Updated Date</th>\n",
       "      <th>Updated Time</th>\n",
       "      <th>Unique Project ID</th>\n",
       "      <th>new_Planned_Project_Completion_Date</th>\n",
       "      <th>new_Completion_Date</th>\n",
       "    </tr>\n",
       "  </thead>\n",
       "  <tbody>\n",
       "    <tr>\n",
       "      <th>3</th>\n",
       "      <td>005-000001723</td>\n",
       "      <td>212.0</td>\n",
       "      <td>5.0</td>\n",
       "      <td>Department of Agriculture</td>\n",
       "      <td>AMS Infrastructure WAN and DMZ (AMSWAN)</td>\n",
       "      <td>658.0</td>\n",
       "      <td>Refresh</td>\n",
       "      <td>Programs Areas will replace 1/3 of their compu...</td>\n",
       "      <td>01-04-2012</td>\n",
       "      <td>1.460</td>\n",
       "      <td>...</td>\n",
       "      <td>0.00</td>\n",
       "      <td>0.00000</td>\n",
       "      <td>0.00</td>\n",
       "      <td>1.4600</td>\n",
       "      <td>1.46000</td>\n",
       "      <td>28-10-2011</td>\n",
       "      <td>05:50:19</td>\n",
       "      <td>3</td>\n",
       "      <td>2012-09-30</td>\n",
       "      <td>2012-09-30</td>\n",
       "    </tr>\n",
       "    <tr>\n",
       "      <th>173</th>\n",
       "      <td>005-000000073</td>\n",
       "      <td>393.0</td>\n",
       "      <td>5.0</td>\n",
       "      <td>Department of Agriculture</td>\n",
       "      <td>AgPRS - USDA Public Safety Land Mobile Radio S...</td>\n",
       "      <td>1647.0</td>\n",
       "      <td>AgPRS Operations and Maintenance Project</td>\n",
       "      <td>AgPRS Operations and Maintenance ProjectThis l...</td>\n",
       "      <td>03-10-2011</td>\n",
       "      <td>21.611</td>\n",
       "      <td>...</td>\n",
       "      <td>0.00</td>\n",
       "      <td>0.13575</td>\n",
       "      <td>2.95</td>\n",
       "      <td>4.6095</td>\n",
       "      <td>4.47375</td>\n",
       "      <td>30-06-2012</td>\n",
       "      <td>14:56:42</td>\n",
       "      <td>2</td>\n",
       "      <td>2012-09-28</td>\n",
       "      <td>2012-09-28</td>\n",
       "    </tr>\n",
       "    <tr>\n",
       "      <th>174</th>\n",
       "      <td>005-000000098</td>\n",
       "      <td>394.0</td>\n",
       "      <td>5.0</td>\n",
       "      <td>Department of Agriculture</td>\n",
       "      <td>Forest Service Computer Base</td>\n",
       "      <td>1764.0</td>\n",
       "      <td>SR 20115337 Cloud Services</td>\n",
       "      <td>Proof of Concept for Cloud Services.</td>\n",
       "      <td>01-06-2011</td>\n",
       "      <td>0.550</td>\n",
       "      <td>...</td>\n",
       "      <td>-2247.06</td>\n",
       "      <td>0.00000</td>\n",
       "      <td>0.00</td>\n",
       "      <td>0.4000</td>\n",
       "      <td>0.40000</td>\n",
       "      <td>01-08-2012</td>\n",
       "      <td>13:22:38</td>\n",
       "      <td>5</td>\n",
       "      <td>2012-10-19</td>\n",
       "      <td>2012-10-19</td>\n",
       "    </tr>\n",
       "    <tr>\n",
       "      <th>175</th>\n",
       "      <td>005-000000098</td>\n",
       "      <td>394.0</td>\n",
       "      <td>5.0</td>\n",
       "      <td>Department of Agriculture</td>\n",
       "      <td>Forest Service Computer Base</td>\n",
       "      <td>1765.0</td>\n",
       "      <td>SR 20092856 DOI - USDA FS Access Authentication</td>\n",
       "      <td>To address interagency operability opportunities.</td>\n",
       "      <td>06-01-2009</td>\n",
       "      <td>0.900</td>\n",
       "      <td>...</td>\n",
       "      <td>-339.75</td>\n",
       "      <td>0.00000</td>\n",
       "      <td>0.00</td>\n",
       "      <td>300.6000</td>\n",
       "      <td>300.60000</td>\n",
       "      <td>31-10-2011</td>\n",
       "      <td>13:10:21</td>\n",
       "      <td>7</td>\n",
       "      <td>2010-11-06</td>\n",
       "      <td>2017-12-14</td>\n",
       "    </tr>\n",
       "    <tr>\n",
       "      <th>176</th>\n",
       "      <td>005-000000098</td>\n",
       "      <td>394.0</td>\n",
       "      <td>5.0</td>\n",
       "      <td>Department of Agriculture</td>\n",
       "      <td>Forest Service Computer Base</td>\n",
       "      <td>1766.0</td>\n",
       "      <td>SR 20115259 Linc Pass 2 Factor Identification</td>\n",
       "      <td>Security project to address implementation of ...</td>\n",
       "      <td>15-02-2011</td>\n",
       "      <td>0.800</td>\n",
       "      <td>...</td>\n",
       "      <td>-300.00</td>\n",
       "      <td>0.00000</td>\n",
       "      <td>0.00</td>\n",
       "      <td>300.5000</td>\n",
       "      <td>300.50000</td>\n",
       "      <td>31-10-2011</td>\n",
       "      <td>13:10:21</td>\n",
       "      <td>9</td>\n",
       "      <td>2013-01-15</td>\n",
       "      <td>2013-01-15</td>\n",
       "    </tr>\n",
       "  </tbody>\n",
       "</table>\n",
       "<p>5 rows × 21 columns</p>\n",
       "</div>"
      ],
      "text/plain": [
       "    Unique Investment Identifier  Business Case ID  Agency Code  \\\n",
       "3                  005-000001723             212.0          5.0   \n",
       "173                005-000000073             393.0          5.0   \n",
       "174                005-000000098             394.0          5.0   \n",
       "175                005-000000098             394.0          5.0   \n",
       "176                005-000000098             394.0          5.0   \n",
       "\n",
       "                   Agency Name  \\\n",
       "3    Department of Agriculture   \n",
       "173  Department of Agriculture   \n",
       "174  Department of Agriculture   \n",
       "175  Department of Agriculture   \n",
       "176  Department of Agriculture   \n",
       "\n",
       "                                      Investment Title  Project ID  \\\n",
       "3              AMS Infrastructure WAN and DMZ (AMSWAN)       658.0   \n",
       "173  AgPRS - USDA Public Safety Land Mobile Radio S...      1647.0   \n",
       "174                       Forest Service Computer Base      1764.0   \n",
       "175                       Forest Service Computer Base      1765.0   \n",
       "176                       Forest Service Computer Base      1766.0   \n",
       "\n",
       "                                        Project Name  \\\n",
       "3                                            Refresh   \n",
       "173         AgPRS Operations and Maintenance Project   \n",
       "174                       SR 20115337 Cloud Services   \n",
       "175  SR 20092856 DOI - USDA FS Access Authentication   \n",
       "176    SR 20115259 Linc Pass 2 Factor Identification   \n",
       "\n",
       "                                   Project Description  Start Date  \\\n",
       "3    Programs Areas will replace 1/3 of their compu...  01-04-2012   \n",
       "173  AgPRS Operations and Maintenance ProjectThis l...  03-10-2011   \n",
       "174               Proof of Concept for Cloud Services.  01-06-2011   \n",
       "175  To address interagency operability opportunities.  06-01-2009   \n",
       "176  Security project to address implementation of ...  15-02-2011   \n",
       "\n",
       "     Lifecycle Cost  ...  Schedule Variance (%)  Cost Variance ($ M)  \\\n",
       "3             1.460  ...                   0.00              0.00000   \n",
       "173          21.611  ...                   0.00              0.13575   \n",
       "174           0.550  ...               -2247.06              0.00000   \n",
       "175           0.900  ...                -339.75              0.00000   \n",
       "176           0.800  ...                -300.00              0.00000   \n",
       "\n",
       "     Cost Variance (%)  Planned Cost ($ M)  Projected/Actual Cost ($ M)  \\\n",
       "3                 0.00              1.4600                      1.46000   \n",
       "173               2.95              4.6095                      4.47375   \n",
       "174               0.00              0.4000                      0.40000   \n",
       "175               0.00            300.6000                    300.60000   \n",
       "176               0.00            300.5000                    300.50000   \n",
       "\n",
       "     Updated Date Updated Time Unique Project ID  \\\n",
       "3      28-10-2011     05:50:19                 3   \n",
       "173    30-06-2012     14:56:42                 2   \n",
       "174    01-08-2012     13:22:38                 5   \n",
       "175    31-10-2011     13:10:21                 7   \n",
       "176    31-10-2011     13:10:21                 9   \n",
       "\n",
       "    new_Planned_Project_Completion_Date new_Completion_Date  \n",
       "3                            2012-09-30          2012-09-30  \n",
       "173                          2012-09-28          2012-09-28  \n",
       "174                          2012-10-19          2012-10-19  \n",
       "175                          2010-11-06          2017-12-14  \n",
       "176                          2013-01-15          2013-01-15  \n",
       "\n",
       "[5 rows x 21 columns]"
      ]
     },
     "execution_count": 41,
     "metadata": {},
     "output_type": "execute_result"
    }
   ],
   "source": [
    "df[df.duplicated(keep = 'first')].head()"
   ]
  },
  {
   "cell_type": "markdown",
   "metadata": {},
   "source": [
    "Removing the Duplicates "
   ]
  },
  {
   "cell_type": "code",
   "execution_count": 42,
   "metadata": {},
   "outputs": [],
   "source": [
    "df.drop_duplicates(keep='first',inplace=True)"
   ]
  },
  {
   "cell_type": "code",
   "execution_count": 43,
   "metadata": {},
   "outputs": [
    {
     "data": {
      "text/plain": [
       "(2445, 21)"
      ]
     },
     "execution_count": 43,
     "metadata": {},
     "output_type": "execute_result"
    }
   ],
   "source": [
    "df.shape"
   ]
  },
  {
   "cell_type": "markdown",
   "metadata": {},
   "source": [
    "Checking for the Duplicates after Deleting "
   ]
  },
  {
   "cell_type": "code",
   "execution_count": 44,
   "metadata": {},
   "outputs": [
    {
     "data": {
      "text/html": [
       "<div>\n",
       "<style scoped>\n",
       "    .dataframe tbody tr th:only-of-type {\n",
       "        vertical-align: middle;\n",
       "    }\n",
       "\n",
       "    .dataframe tbody tr th {\n",
       "        vertical-align: top;\n",
       "    }\n",
       "\n",
       "    .dataframe thead th {\n",
       "        text-align: right;\n",
       "    }\n",
       "</style>\n",
       "<table border=\"1\" class=\"dataframe\">\n",
       "  <thead>\n",
       "    <tr style=\"text-align: right;\">\n",
       "      <th></th>\n",
       "      <th>Unique Investment Identifier</th>\n",
       "      <th>Business Case ID</th>\n",
       "      <th>Agency Code</th>\n",
       "      <th>Agency Name</th>\n",
       "      <th>Investment Title</th>\n",
       "      <th>Project ID</th>\n",
       "      <th>Project Name</th>\n",
       "      <th>Project Description</th>\n",
       "      <th>Start Date</th>\n",
       "      <th>Lifecycle Cost</th>\n",
       "      <th>...</th>\n",
       "      <th>Schedule Variance (%)</th>\n",
       "      <th>Cost Variance ($ M)</th>\n",
       "      <th>Cost Variance (%)</th>\n",
       "      <th>Planned Cost ($ M)</th>\n",
       "      <th>Projected/Actual Cost ($ M)</th>\n",
       "      <th>Updated Date</th>\n",
       "      <th>Updated Time</th>\n",
       "      <th>Unique Project ID</th>\n",
       "      <th>new_Planned_Project_Completion_Date</th>\n",
       "      <th>new_Completion_Date</th>\n",
       "    </tr>\n",
       "  </thead>\n",
       "  <tbody>\n",
       "  </tbody>\n",
       "</table>\n",
       "<p>0 rows × 21 columns</p>\n",
       "</div>"
      ],
      "text/plain": [
       "Empty DataFrame\n",
       "Columns: [Unique Investment Identifier, Business Case ID, Agency Code, Agency Name, Investment Title, Project ID, Project Name, Project Description, Start Date, Lifecycle Cost, Schedule Variance (in days), Schedule Variance (%), Cost Variance ($ M), Cost Variance (%), Planned Cost ($ M), Projected/Actual Cost ($ M), Updated Date, Updated Time, Unique Project ID, new_Planned_Project_Completion_Date, new_Completion_Date]\n",
       "Index: []\n",
       "\n",
       "[0 rows x 21 columns]"
      ]
     },
     "execution_count": 44,
     "metadata": {},
     "output_type": "execute_result"
    }
   ],
   "source": [
    "df[df.duplicated(keep = 'first')].head()"
   ]
  },
  {
   "cell_type": "code",
   "execution_count": 45,
   "metadata": {
    "scrolled": true
   },
   "outputs": [
    {
     "data": {
      "text/html": [
       "<div>\n",
       "<style scoped>\n",
       "    .dataframe tbody tr th:only-of-type {\n",
       "        vertical-align: middle;\n",
       "    }\n",
       "\n",
       "    .dataframe tbody tr th {\n",
       "        vertical-align: top;\n",
       "    }\n",
       "\n",
       "    .dataframe thead th {\n",
       "        text-align: right;\n",
       "    }\n",
       "</style>\n",
       "<table border=\"1\" class=\"dataframe\">\n",
       "  <thead>\n",
       "    <tr style=\"text-align: right;\">\n",
       "      <th></th>\n",
       "      <th>Business Case ID</th>\n",
       "      <th>Agency Code</th>\n",
       "      <th>Project ID</th>\n",
       "      <th>Lifecycle Cost</th>\n",
       "      <th>Schedule Variance (in days)</th>\n",
       "      <th>Schedule Variance (%)</th>\n",
       "      <th>Cost Variance ($ M)</th>\n",
       "      <th>Cost Variance (%)</th>\n",
       "      <th>Planned Cost ($ M)</th>\n",
       "      <th>Projected/Actual Cost ($ M)</th>\n",
       "    </tr>\n",
       "  </thead>\n",
       "  <tbody>\n",
       "    <tr>\n",
       "      <th>count</th>\n",
       "      <td>2445.000000</td>\n",
       "      <td>2445.000000</td>\n",
       "      <td>2445.000000</td>\n",
       "      <td>2445.000000</td>\n",
       "      <td>2445.000000</td>\n",
       "      <td>2445.000000</td>\n",
       "      <td>2445.000000</td>\n",
       "      <td>2445.000000</td>\n",
       "      <td>2445.000000</td>\n",
       "      <td>2445.000000</td>\n",
       "    </tr>\n",
       "    <tr>\n",
       "      <th>mean</th>\n",
       "      <td>533.826176</td>\n",
       "      <td>33.247035</td>\n",
       "      <td>1535.666667</td>\n",
       "      <td>258.799922</td>\n",
       "      <td>-33.058896</td>\n",
       "      <td>-41.296164</td>\n",
       "      <td>-0.653433</td>\n",
       "      <td>-43.156949</td>\n",
       "      <td>20.565107</td>\n",
       "      <td>21.218540</td>\n",
       "    </tr>\n",
       "    <tr>\n",
       "      <th>std</th>\n",
       "      <td>323.100837</td>\n",
       "      <td>79.332838</td>\n",
       "      <td>945.443831</td>\n",
       "      <td>3562.740735</td>\n",
       "      <td>103.992272</td>\n",
       "      <td>1116.233332</td>\n",
       "      <td>60.703200</td>\n",
       "      <td>1057.921566</td>\n",
       "      <td>197.199758</td>\n",
       "      <td>207.707670</td>\n",
       "    </tr>\n",
       "    <tr>\n",
       "      <th>min</th>\n",
       "      <td>3.000000</td>\n",
       "      <td>5.000000</td>\n",
       "      <td>2.000000</td>\n",
       "      <td>0.000000</td>\n",
       "      <td>-1259.000000</td>\n",
       "      <td>-54600.000000</td>\n",
       "      <td>-2350.070000</td>\n",
       "      <td>-33767.380000</td>\n",
       "      <td>0.000001</td>\n",
       "      <td>0.000000</td>\n",
       "    </tr>\n",
       "    <tr>\n",
       "      <th>25%</th>\n",
       "      <td>262.000000</td>\n",
       "      <td>9.000000</td>\n",
       "      <td>722.000000</td>\n",
       "      <td>0.754000</td>\n",
       "      <td>-10.000000</td>\n",
       "      <td>-3.360000</td>\n",
       "      <td>0.000000</td>\n",
       "      <td>0.000000</td>\n",
       "      <td>0.503000</td>\n",
       "      <td>0.498987</td>\n",
       "    </tr>\n",
       "    <tr>\n",
       "      <th>50%</th>\n",
       "      <td>492.000000</td>\n",
       "      <td>16.000000</td>\n",
       "      <td>1416.000000</td>\n",
       "      <td>3.106090</td>\n",
       "      <td>0.000000</td>\n",
       "      <td>0.000000</td>\n",
       "      <td>0.000000</td>\n",
       "      <td>0.000000</td>\n",
       "      <td>1.927104</td>\n",
       "      <td>1.894810</td>\n",
       "    </tr>\n",
       "    <tr>\n",
       "      <th>75%</th>\n",
       "      <td>832.000000</td>\n",
       "      <td>24.000000</td>\n",
       "      <td>2315.000000</td>\n",
       "      <td>13.400000</td>\n",
       "      <td>0.000000</td>\n",
       "      <td>0.000000</td>\n",
       "      <td>0.012008</td>\n",
       "      <td>1.000000</td>\n",
       "      <td>6.466000</td>\n",
       "      <td>6.443000</td>\n",
       "    </tr>\n",
       "    <tr>\n",
       "      <th>max</th>\n",
       "      <td>1137.000000</td>\n",
       "      <td>429.000000</td>\n",
       "      <td>3275.000000</td>\n",
       "      <td>119098.812000</td>\n",
       "      <td>1164.000000</td>\n",
       "      <td>3500.000000</td>\n",
       "      <td>1027.653000</td>\n",
       "      <td>100.000000</td>\n",
       "      <td>6119.000000</td>\n",
       "      <td>6118.999860</td>\n",
       "    </tr>\n",
       "  </tbody>\n",
       "</table>\n",
       "</div>"
      ],
      "text/plain": [
       "       Business Case ID  Agency Code   Project ID  Lifecycle Cost  \\\n",
       "count       2445.000000  2445.000000  2445.000000     2445.000000   \n",
       "mean         533.826176    33.247035  1535.666667      258.799922   \n",
       "std          323.100837    79.332838   945.443831     3562.740735   \n",
       "min            3.000000     5.000000     2.000000        0.000000   \n",
       "25%          262.000000     9.000000   722.000000        0.754000   \n",
       "50%          492.000000    16.000000  1416.000000        3.106090   \n",
       "75%          832.000000    24.000000  2315.000000       13.400000   \n",
       "max         1137.000000   429.000000  3275.000000   119098.812000   \n",
       "\n",
       "       Schedule Variance (in days)  Schedule Variance (%)  \\\n",
       "count                  2445.000000            2445.000000   \n",
       "mean                    -33.058896             -41.296164   \n",
       "std                     103.992272            1116.233332   \n",
       "min                   -1259.000000          -54600.000000   \n",
       "25%                     -10.000000              -3.360000   \n",
       "50%                       0.000000               0.000000   \n",
       "75%                       0.000000               0.000000   \n",
       "max                    1164.000000            3500.000000   \n",
       "\n",
       "       Cost Variance ($ M)  Cost Variance (%)  Planned Cost ($ M)  \\\n",
       "count          2445.000000        2445.000000         2445.000000   \n",
       "mean             -0.653433         -43.156949           20.565107   \n",
       "std              60.703200        1057.921566          197.199758   \n",
       "min           -2350.070000      -33767.380000            0.000001   \n",
       "25%               0.000000           0.000000            0.503000   \n",
       "50%               0.000000           0.000000            1.927104   \n",
       "75%               0.012008           1.000000            6.466000   \n",
       "max            1027.653000         100.000000         6119.000000   \n",
       "\n",
       "       Projected/Actual Cost ($ M)  \n",
       "count                  2445.000000  \n",
       "mean                     21.218540  \n",
       "std                     207.707670  \n",
       "min                       0.000000  \n",
       "25%                       0.498987  \n",
       "50%                       1.894810  \n",
       "75%                       6.443000  \n",
       "max                    6118.999860  "
      ]
     },
     "execution_count": 45,
     "metadata": {},
     "output_type": "execute_result"
    }
   ],
   "source": [
    "df.describe()"
   ]
  },
  {
   "cell_type": "code",
   "execution_count": 46,
   "metadata": {},
   "outputs": [],
   "source": [
    "df.to_csv('US_DATASET.csv')"
   ]
  },
  {
   "cell_type": "markdown",
   "metadata": {},
   "source": [
    "# CREDIT\n",
    "*Here,I have used  [US Governments IT Dashboard system](https://www.itdashboard.gov/drupal/data/datafeeds?format=csv) to collect Data,this information is just for the Project Purpose.*\n"
   ]
  }
 ],
 "metadata": {
  "kernelspec": {
   "display_name": "Python 3",
   "language": "python",
   "name": "python3"
  },
  "language_info": {
   "codemirror_mode": {
    "name": "ipython",
    "version": 3
   },
   "file_extension": ".py",
   "mimetype": "text/x-python",
   "name": "python",
   "nbconvert_exporter": "python",
   "pygments_lexer": "ipython3",
   "version": "3.8.5"
  }
 },
 "nbformat": 4,
 "nbformat_minor": 4
}

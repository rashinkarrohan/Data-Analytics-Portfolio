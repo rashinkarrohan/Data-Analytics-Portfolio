{
 "cells": [
  {
   "cell_type": "markdown",
   "metadata": {},
   "source": [
    "Things to Perform : \n",
    "    \n",
    "1.) Removing Empty Rows : from Observation we have found that are lot of empty rows.\n",
    "\n",
    "2.) Removing Duplicate Values.\n",
    "\n",
    "3.) Transforming in Right Format : Data is not in Proper format, So we need to transform it.\n",
    "\n",
    "4.) Removing Outliers.\n",
    "\n",
    "5.) Handling Missing Values."
   ]
  },
  {
   "cell_type": "markdown",
   "metadata": {},
   "source": [
    "## Importing Libraries\n",
    "**Pandas** :  Pandas Library is used for the Data Manipulation and Analysis.\n",
    "\n",
    "**Numpy**  :  Numpy Library is use for Mathematical Computation and used as Arrays.\n",
    "\n",
    "**Matplotlib** : Matplotlib Library is used to create Visualization from the Data.\n",
    "\n",
    "**seaborn** : Matplotlib Library is used to create Visualization from the Data."
   ]
  },
  {
   "cell_type": "code",
   "execution_count": 1,
   "metadata": {},
   "outputs": [],
   "source": [
    "import pandas as pd\n",
    "import numpy as np\n",
    "import seaborn as sns\n",
    "import matplotlib.pyplot as plt\n",
    "sns.set_theme(style=\"whitegrid\")"
   ]
  },
  {
   "cell_type": "markdown",
   "metadata": {},
   "source": [
    "## Importing Dataset.\n",
    "\n",
    "Here,we have used the Pune Housing Data which have Scrapped Earlier."
   ]
  },
  {
   "cell_type": "code",
   "execution_count": 2,
   "metadata": {},
   "outputs": [],
   "source": [
    "df = pd.read_csv('Pune_Housing.csv')"
   ]
  },
  {
   "cell_type": "markdown",
   "metadata": {},
   "source": [
    "Getting the size of the Dataset."
   ]
  },
  {
   "cell_type": "code",
   "execution_count": 3,
   "metadata": {},
   "outputs": [
    {
     "data": {
      "text/plain": [
       "(58072, 9)"
      ]
     },
     "execution_count": 3,
     "metadata": {},
     "output_type": "execute_result"
    }
   ],
   "source": [
    "df.shape"
   ]
  },
  {
   "cell_type": "markdown",
   "metadata": {},
   "source": [
    "Checking for the Null Values."
   ]
  },
  {
   "cell_type": "code",
   "execution_count": 4,
   "metadata": {
    "scrolled": true
   },
   "outputs": [
    {
     "data": {
      "text/plain": [
       "Possession        35581\n",
       "Age_old           31128\n",
       "bath              14703\n",
       "status                3\n",
       "price_per_sqft        0\n",
       "sqft                  0\n",
       "Price                 0\n",
       "locality              0\n",
       "bhk                   0\n",
       "dtype: int64"
      ]
     },
     "execution_count": 4,
     "metadata": {},
     "output_type": "execute_result"
    }
   ],
   "source": [
    "df.isnull().sum().sort_values(ascending=False)"
   ]
  },
  {
   "cell_type": "code",
   "execution_count": 5,
   "metadata": {
    "scrolled": false
   },
   "outputs": [
    {
     "data": {
      "text/html": [
       "<div>\n",
       "<style scoped>\n",
       "    .dataframe tbody tr th:only-of-type {\n",
       "        vertical-align: middle;\n",
       "    }\n",
       "\n",
       "    .dataframe tbody tr th {\n",
       "        vertical-align: top;\n",
       "    }\n",
       "\n",
       "    .dataframe thead th {\n",
       "        text-align: right;\n",
       "    }\n",
       "</style>\n",
       "<table border=\"1\" class=\"dataframe\">\n",
       "  <thead>\n",
       "    <tr style=\"text-align: right;\">\n",
       "      <th></th>\n",
       "      <th>bhk</th>\n",
       "      <th>locality</th>\n",
       "      <th>Price</th>\n",
       "      <th>sqft</th>\n",
       "      <th>status</th>\n",
       "      <th>Possession</th>\n",
       "      <th>price_per_sqft</th>\n",
       "      <th>Age_old</th>\n",
       "      <th>bath</th>\n",
       "    </tr>\n",
       "  </thead>\n",
       "  <tbody>\n",
       "    <tr>\n",
       "      <th>0</th>\n",
       "      <td>2</td>\n",
       "      <td>Ravet</td>\n",
       "      <td>45 L</td>\n",
       "      <td>1000</td>\n",
       "      <td>Under Construction</td>\n",
       "      <td>Possession by Dec 2022</td>\n",
       "      <td>4,500 / sq ft</td>\n",
       "      <td>NaN</td>\n",
       "      <td>2.0</td>\n",
       "    </tr>\n",
       "    <tr>\n",
       "      <th>1</th>\n",
       "      <td>1</td>\n",
       "      <td>Tathawade</td>\n",
       "      <td>36 L</td>\n",
       "      <td>670</td>\n",
       "      <td>Under Construction</td>\n",
       "      <td>Possession by Jun 2026</td>\n",
       "      <td>5,373 / sq ft</td>\n",
       "      <td>NaN</td>\n",
       "      <td>1.0</td>\n",
       "    </tr>\n",
       "    <tr>\n",
       "      <th>2</th>\n",
       "      <td>2</td>\n",
       "      <td>Tathawade</td>\n",
       "      <td>59 L</td>\n",
       "      <td>1100</td>\n",
       "      <td>Under Construction</td>\n",
       "      <td>Possession by Aug 2025</td>\n",
       "      <td>5,363 / sq ft</td>\n",
       "      <td>NaN</td>\n",
       "      <td>2.0</td>\n",
       "    </tr>\n",
       "    <tr>\n",
       "      <th>3</th>\n",
       "      <td>2</td>\n",
       "      <td>Ravet</td>\n",
       "      <td>54 L</td>\n",
       "      <td>1100</td>\n",
       "      <td>Under Construction</td>\n",
       "      <td>Possession by Mar 2025</td>\n",
       "      <td>4,909 / sq ft</td>\n",
       "      <td>NaN</td>\n",
       "      <td>2.0</td>\n",
       "    </tr>\n",
       "    <tr>\n",
       "      <th>4</th>\n",
       "      <td>1</td>\n",
       "      <td>Bavdhan</td>\n",
       "      <td>37.5 L</td>\n",
       "      <td>664</td>\n",
       "      <td>Under Construction</td>\n",
       "      <td>Possession by Jun 2024</td>\n",
       "      <td>5,647 / sq ft</td>\n",
       "      <td>NaN</td>\n",
       "      <td>1.0</td>\n",
       "    </tr>\n",
       "  </tbody>\n",
       "</table>\n",
       "</div>"
      ],
      "text/plain": [
       "   bhk   locality   Price  sqft              status              Possession  \\\n",
       "0    2      Ravet    45 L  1000  Under Construction  Possession by Dec 2022   \n",
       "1    1  Tathawade    36 L   670  Under Construction  Possession by Jun 2026   \n",
       "2    2  Tathawade    59 L  1100  Under Construction  Possession by Aug 2025   \n",
       "3    2      Ravet    54 L  1100  Under Construction  Possession by Mar 2025   \n",
       "4    1    Bavdhan  37.5 L   664  Under Construction  Possession by Jun 2024   \n",
       "\n",
       "  price_per_sqft  Age_old  bath  \n",
       "0  4,500 / sq ft      NaN   2.0  \n",
       "1  5,373 / sq ft      NaN   1.0  \n",
       "2  5,363 / sq ft      NaN   2.0  \n",
       "3  4,909 / sq ft      NaN   2.0  \n",
       "4  5,647 / sq ft      NaN   1.0  "
      ]
     },
     "execution_count": 5,
     "metadata": {},
     "output_type": "execute_result"
    }
   ],
   "source": [
    "df.head()"
   ]
  },
  {
   "cell_type": "markdown",
   "metadata": {},
   "source": [
    "## Remoing the Empty Rows"
   ]
  },
  {
   "cell_type": "code",
   "execution_count": 6,
   "metadata": {
    "scrolled": true
   },
   "outputs": [],
   "source": [
    "df.dropna(axis=0,how='all',inplace=True)"
   ]
  },
  {
   "cell_type": "code",
   "execution_count": 7,
   "metadata": {},
   "outputs": [
    {
     "data": {
      "text/plain": [
       "Possession        35581\n",
       "Age_old           31128\n",
       "bath              14703\n",
       "status                3\n",
       "price_per_sqft        0\n",
       "sqft                  0\n",
       "Price                 0\n",
       "locality              0\n",
       "bhk                   0\n",
       "dtype: int64"
      ]
     },
     "execution_count": 7,
     "metadata": {},
     "output_type": "execute_result"
    }
   ],
   "source": [
    "df.isnull().sum().sort_values(ascending=False)"
   ]
  },
  {
   "cell_type": "markdown",
   "metadata": {},
   "source": [
    "## Removing Duplicated Values."
   ]
  },
  {
   "cell_type": "code",
   "execution_count": 8,
   "metadata": {},
   "outputs": [
    {
     "data": {
      "text/html": [
       "<div>\n",
       "<style scoped>\n",
       "    .dataframe tbody tr th:only-of-type {\n",
       "        vertical-align: middle;\n",
       "    }\n",
       "\n",
       "    .dataframe tbody tr th {\n",
       "        vertical-align: top;\n",
       "    }\n",
       "\n",
       "    .dataframe thead th {\n",
       "        text-align: right;\n",
       "    }\n",
       "</style>\n",
       "<table border=\"1\" class=\"dataframe\">\n",
       "  <thead>\n",
       "    <tr style=\"text-align: right;\">\n",
       "      <th></th>\n",
       "      <th>bhk</th>\n",
       "      <th>locality</th>\n",
       "      <th>Price</th>\n",
       "      <th>sqft</th>\n",
       "      <th>status</th>\n",
       "      <th>Possession</th>\n",
       "      <th>price_per_sqft</th>\n",
       "      <th>Age_old</th>\n",
       "      <th>bath</th>\n",
       "    </tr>\n",
       "  </thead>\n",
       "  <tbody>\n",
       "    <tr>\n",
       "      <th>73</th>\n",
       "      <td>2</td>\n",
       "      <td>Hinjewadi</td>\n",
       "      <td>44.19 L</td>\n",
       "      <td>560</td>\n",
       "      <td>Under Construction</td>\n",
       "      <td>Possession by Jun 2024</td>\n",
       "      <td>7,891 / sq ft</td>\n",
       "      <td>NaN</td>\n",
       "      <td>NaN</td>\n",
       "    </tr>\n",
       "    <tr>\n",
       "      <th>74</th>\n",
       "      <td>1</td>\n",
       "      <td>Hinjewadi</td>\n",
       "      <td>32.04 L</td>\n",
       "      <td>394</td>\n",
       "      <td>Under Construction</td>\n",
       "      <td>Possession by Jun 2024</td>\n",
       "      <td>8,154 / sq ft</td>\n",
       "      <td>NaN</td>\n",
       "      <td>NaN</td>\n",
       "    </tr>\n",
       "    <tr>\n",
       "      <th>166</th>\n",
       "      <td>3</td>\n",
       "      <td>Kondhwa</td>\n",
       "      <td>1.54 Cr</td>\n",
       "      <td>1378</td>\n",
       "      <td>Under Construction</td>\n",
       "      <td>Possession by Dec 1899</td>\n",
       "      <td>11,248 / sq ft</td>\n",
       "      <td>NaN</td>\n",
       "      <td>NaN</td>\n",
       "    </tr>\n",
       "    <tr>\n",
       "      <th>167</th>\n",
       "      <td>2</td>\n",
       "      <td>Kondhwa</td>\n",
       "      <td>1.03 Cr</td>\n",
       "      <td>901</td>\n",
       "      <td>Under Construction</td>\n",
       "      <td>Possession by Dec 1899</td>\n",
       "      <td>11,432 / sq ft</td>\n",
       "      <td>NaN</td>\n",
       "      <td>NaN</td>\n",
       "    </tr>\n",
       "    <tr>\n",
       "      <th>168</th>\n",
       "      <td>3</td>\n",
       "      <td>Kondhwa</td>\n",
       "      <td>1.58 Cr</td>\n",
       "      <td>1390</td>\n",
       "      <td>Under Construction</td>\n",
       "      <td>Possession by Dec 1899</td>\n",
       "      <td>11,367 / sq ft</td>\n",
       "      <td>NaN</td>\n",
       "      <td>NaN</td>\n",
       "    </tr>\n",
       "    <tr>\n",
       "      <th>...</th>\n",
       "      <td>...</td>\n",
       "      <td>...</td>\n",
       "      <td>...</td>\n",
       "      <td>...</td>\n",
       "      <td>...</td>\n",
       "      <td>...</td>\n",
       "      <td>...</td>\n",
       "      <td>...</td>\n",
       "      <td>...</td>\n",
       "    </tr>\n",
       "    <tr>\n",
       "      <th>58067</th>\n",
       "      <td>3</td>\n",
       "      <td>Hinjewadi</td>\n",
       "      <td>1.08 Cr</td>\n",
       "      <td>1550</td>\n",
       "      <td>Ready to move</td>\n",
       "      <td>NaN</td>\n",
       "      <td>6,967 / sq ft</td>\n",
       "      <td>NaN</td>\n",
       "      <td>3.0</td>\n",
       "    </tr>\n",
       "    <tr>\n",
       "      <th>58068</th>\n",
       "      <td>2</td>\n",
       "      <td>Vishrantwadi</td>\n",
       "      <td>70 L</td>\n",
       "      <td>1250</td>\n",
       "      <td>Ready to move</td>\n",
       "      <td>NaN</td>\n",
       "      <td>5,600 / sq ft</td>\n",
       "      <td>11.0</td>\n",
       "      <td>2.0</td>\n",
       "    </tr>\n",
       "    <tr>\n",
       "      <th>58069</th>\n",
       "      <td>2</td>\n",
       "      <td>Tathawade</td>\n",
       "      <td>42 L</td>\n",
       "      <td>900</td>\n",
       "      <td>Ready to move</td>\n",
       "      <td>NaN</td>\n",
       "      <td>4,666 / sq ft</td>\n",
       "      <td>0.0</td>\n",
       "      <td>2.0</td>\n",
       "    </tr>\n",
       "    <tr>\n",
       "      <th>58070</th>\n",
       "      <td>1</td>\n",
       "      <td>Vishrantwadi</td>\n",
       "      <td>34 L</td>\n",
       "      <td>750</td>\n",
       "      <td>Ready to move</td>\n",
       "      <td>NaN</td>\n",
       "      <td>4,533 / sq ft</td>\n",
       "      <td>13.0</td>\n",
       "      <td>1.0</td>\n",
       "    </tr>\n",
       "    <tr>\n",
       "      <th>58071</th>\n",
       "      <td>3</td>\n",
       "      <td>Rahatani</td>\n",
       "      <td>1.4 Cr</td>\n",
       "      <td>1650</td>\n",
       "      <td>Ready to move</td>\n",
       "      <td>NaN</td>\n",
       "      <td>8,484 / sq ft</td>\n",
       "      <td>9.0</td>\n",
       "      <td>3.0</td>\n",
       "    </tr>\n",
       "  </tbody>\n",
       "</table>\n",
       "<p>26194 rows × 9 columns</p>\n",
       "</div>"
      ],
      "text/plain": [
       "       bhk      locality    Price  sqft              status  \\\n",
       "73       2     Hinjewadi  44.19 L   560  Under Construction   \n",
       "74       1     Hinjewadi  32.04 L   394  Under Construction   \n",
       "166      3       Kondhwa  1.54 Cr  1378  Under Construction   \n",
       "167      2       Kondhwa  1.03 Cr   901  Under Construction   \n",
       "168      3       Kondhwa  1.58 Cr  1390  Under Construction   \n",
       "...    ...           ...      ...   ...                 ...   \n",
       "58067    3     Hinjewadi  1.08 Cr  1550       Ready to move   \n",
       "58068    2  Vishrantwadi     70 L  1250       Ready to move   \n",
       "58069    2     Tathawade     42 L   900       Ready to move   \n",
       "58070    1  Vishrantwadi     34 L   750       Ready to move   \n",
       "58071    3      Rahatani   1.4 Cr  1650       Ready to move   \n",
       "\n",
       "                   Possession  price_per_sqft  Age_old  bath  \n",
       "73     Possession by Jun 2024   7,891 / sq ft      NaN   NaN  \n",
       "74     Possession by Jun 2024   8,154 / sq ft      NaN   NaN  \n",
       "166    Possession by Dec 1899  11,248 / sq ft      NaN   NaN  \n",
       "167    Possession by Dec 1899  11,432 / sq ft      NaN   NaN  \n",
       "168    Possession by Dec 1899  11,367 / sq ft      NaN   NaN  \n",
       "...                       ...             ...      ...   ...  \n",
       "58067                     NaN   6,967 / sq ft      NaN   3.0  \n",
       "58068                     NaN   5,600 / sq ft     11.0   2.0  \n",
       "58069                     NaN   4,666 / sq ft      0.0   2.0  \n",
       "58070                     NaN   4,533 / sq ft     13.0   1.0  \n",
       "58071                     NaN   8,484 / sq ft      9.0   3.0  \n",
       "\n",
       "[26194 rows x 9 columns]"
      ]
     },
     "execution_count": 8,
     "metadata": {},
     "output_type": "execute_result"
    }
   ],
   "source": [
    "df[df.duplicated(keep = 'first')]"
   ]
  },
  {
   "cell_type": "code",
   "execution_count": 9,
   "metadata": {},
   "outputs": [],
   "source": [
    "df.drop_duplicates(keep='first',inplace=True)"
   ]
  },
  {
   "cell_type": "code",
   "execution_count": 10,
   "metadata": {},
   "outputs": [
    {
     "data": {
      "text/plain": [
       "(31878, 9)"
      ]
     },
     "execution_count": 10,
     "metadata": {},
     "output_type": "execute_result"
    }
   ],
   "source": [
    "df.shape"
   ]
  },
  {
   "cell_type": "markdown",
   "metadata": {},
   "source": [
    "## Cleaning the Data to get Proper format"
   ]
  },
  {
   "cell_type": "code",
   "execution_count": 11,
   "metadata": {
    "scrolled": true
   },
   "outputs": [
    {
     "data": {
      "text/html": [
       "<div>\n",
       "<style scoped>\n",
       "    .dataframe tbody tr th:only-of-type {\n",
       "        vertical-align: middle;\n",
       "    }\n",
       "\n",
       "    .dataframe tbody tr th {\n",
       "        vertical-align: top;\n",
       "    }\n",
       "\n",
       "    .dataframe thead th {\n",
       "        text-align: right;\n",
       "    }\n",
       "</style>\n",
       "<table border=\"1\" class=\"dataframe\">\n",
       "  <thead>\n",
       "    <tr style=\"text-align: right;\">\n",
       "      <th></th>\n",
       "      <th>bhk</th>\n",
       "      <th>locality</th>\n",
       "      <th>Price</th>\n",
       "      <th>sqft</th>\n",
       "      <th>status</th>\n",
       "      <th>Possession</th>\n",
       "      <th>price_per_sqft</th>\n",
       "      <th>Age_old</th>\n",
       "      <th>bath</th>\n",
       "    </tr>\n",
       "  </thead>\n",
       "  <tbody>\n",
       "    <tr>\n",
       "      <th>0</th>\n",
       "      <td>2</td>\n",
       "      <td>Ravet</td>\n",
       "      <td>45 L</td>\n",
       "      <td>1000</td>\n",
       "      <td>Under Construction</td>\n",
       "      <td>Possession by Dec 2022</td>\n",
       "      <td>4,500 / sq ft</td>\n",
       "      <td>NaN</td>\n",
       "      <td>2.0</td>\n",
       "    </tr>\n",
       "    <tr>\n",
       "      <th>1</th>\n",
       "      <td>1</td>\n",
       "      <td>Tathawade</td>\n",
       "      <td>36 L</td>\n",
       "      <td>670</td>\n",
       "      <td>Under Construction</td>\n",
       "      <td>Possession by Jun 2026</td>\n",
       "      <td>5,373 / sq ft</td>\n",
       "      <td>NaN</td>\n",
       "      <td>1.0</td>\n",
       "    </tr>\n",
       "    <tr>\n",
       "      <th>2</th>\n",
       "      <td>2</td>\n",
       "      <td>Tathawade</td>\n",
       "      <td>59 L</td>\n",
       "      <td>1100</td>\n",
       "      <td>Under Construction</td>\n",
       "      <td>Possession by Aug 2025</td>\n",
       "      <td>5,363 / sq ft</td>\n",
       "      <td>NaN</td>\n",
       "      <td>2.0</td>\n",
       "    </tr>\n",
       "    <tr>\n",
       "      <th>3</th>\n",
       "      <td>2</td>\n",
       "      <td>Ravet</td>\n",
       "      <td>54 L</td>\n",
       "      <td>1100</td>\n",
       "      <td>Under Construction</td>\n",
       "      <td>Possession by Mar 2025</td>\n",
       "      <td>4,909 / sq ft</td>\n",
       "      <td>NaN</td>\n",
       "      <td>2.0</td>\n",
       "    </tr>\n",
       "    <tr>\n",
       "      <th>4</th>\n",
       "      <td>1</td>\n",
       "      <td>Bavdhan</td>\n",
       "      <td>37.5 L</td>\n",
       "      <td>664</td>\n",
       "      <td>Under Construction</td>\n",
       "      <td>Possession by Jun 2024</td>\n",
       "      <td>5,647 / sq ft</td>\n",
       "      <td>NaN</td>\n",
       "      <td>1.0</td>\n",
       "    </tr>\n",
       "  </tbody>\n",
       "</table>\n",
       "</div>"
      ],
      "text/plain": [
       "   bhk   locality   Price  sqft              status              Possession  \\\n",
       "0    2      Ravet    45 L  1000  Under Construction  Possession by Dec 2022   \n",
       "1    1  Tathawade    36 L   670  Under Construction  Possession by Jun 2026   \n",
       "2    2  Tathawade    59 L  1100  Under Construction  Possession by Aug 2025   \n",
       "3    2      Ravet    54 L  1100  Under Construction  Possession by Mar 2025   \n",
       "4    1    Bavdhan  37.5 L   664  Under Construction  Possession by Jun 2024   \n",
       "\n",
       "  price_per_sqft  Age_old  bath  \n",
       "0  4,500 / sq ft      NaN   2.0  \n",
       "1  5,373 / sq ft      NaN   1.0  \n",
       "2  5,363 / sq ft      NaN   2.0  \n",
       "3  4,909 / sq ft      NaN   2.0  \n",
       "4  5,647 / sq ft      NaN   1.0  "
      ]
     },
     "execution_count": 11,
     "metadata": {},
     "output_type": "execute_result"
    }
   ],
   "source": [
    "df.head()"
   ]
  },
  {
   "cell_type": "markdown",
   "metadata": {},
   "source": [
    "In the *price_per_sqft* feature the data is in string format we need to convert it to numerric."
   ]
  },
  {
   "cell_type": "code",
   "execution_count": 12,
   "metadata": {},
   "outputs": [],
   "source": [
    "df.price_per_sqft = df.price_per_sqft.apply(lambda x : x.replace('/ sq ft',''))"
   ]
  },
  {
   "cell_type": "code",
   "execution_count": 13,
   "metadata": {},
   "outputs": [],
   "source": [
    "df.price_per_sqft = df.price_per_sqft.apply(lambda x : x.replace(',',''))"
   ]
  },
  {
   "cell_type": "code",
   "execution_count": 14,
   "metadata": {},
   "outputs": [
    {
     "data": {
      "text/plain": [
       "Possession        20940\n",
       "Age_old           16523\n",
       "bath               5172\n",
       "status                2\n",
       "price_per_sqft        0\n",
       "dtype: int64"
      ]
     },
     "execution_count": 14,
     "metadata": {},
     "output_type": "execute_result"
    }
   ],
   "source": [
    "df.isnull().sum().sort_values(ascending=False).head()"
   ]
  },
  {
   "cell_type": "markdown",
   "metadata": {},
   "source": [
    "So in order to deal with the Age of the House we need to drop value if both the columns Possession & Age_old have NA."
   ]
  },
  {
   "cell_type": "code",
   "execution_count": 15,
   "metadata": {},
   "outputs": [],
   "source": [
    "df.dropna(subset=['Possession','Age_old'],how='all',inplace=True)"
   ]
  },
  {
   "cell_type": "markdown",
   "metadata": {},
   "source": [
    "We will impute Possession as *Possession by Jun 2121*"
   ]
  },
  {
   "cell_type": "code",
   "execution_count": 16,
   "metadata": {},
   "outputs": [],
   "source": [
    "df['Possession'].fillna('Possession by Jun 2121',inplace=True)"
   ]
  },
  {
   "cell_type": "code",
   "execution_count": 17,
   "metadata": {},
   "outputs": [],
   "source": [
    "df['Possession_Year'] = df.Possession.apply(lambda x :  x.split()[-1])"
   ]
  },
  {
   "cell_type": "code",
   "execution_count": 18,
   "metadata": {
    "scrolled": false
   },
   "outputs": [
    {
     "data": {
      "text/html": [
       "<div>\n",
       "<style scoped>\n",
       "    .dataframe tbody tr th:only-of-type {\n",
       "        vertical-align: middle;\n",
       "    }\n",
       "\n",
       "    .dataframe tbody tr th {\n",
       "        vertical-align: top;\n",
       "    }\n",
       "\n",
       "    .dataframe thead th {\n",
       "        text-align: right;\n",
       "    }\n",
       "</style>\n",
       "<table border=\"1\" class=\"dataframe\">\n",
       "  <thead>\n",
       "    <tr style=\"text-align: right;\">\n",
       "      <th></th>\n",
       "      <th>bhk</th>\n",
       "      <th>locality</th>\n",
       "      <th>Price</th>\n",
       "      <th>sqft</th>\n",
       "      <th>status</th>\n",
       "      <th>Possession</th>\n",
       "      <th>price_per_sqft</th>\n",
       "      <th>Age_old</th>\n",
       "      <th>bath</th>\n",
       "      <th>Possession_Year</th>\n",
       "    </tr>\n",
       "  </thead>\n",
       "  <tbody>\n",
       "    <tr>\n",
       "      <th>0</th>\n",
       "      <td>2</td>\n",
       "      <td>Ravet</td>\n",
       "      <td>45 L</td>\n",
       "      <td>1000</td>\n",
       "      <td>Under Construction</td>\n",
       "      <td>Possession by Dec 2022</td>\n",
       "      <td>4500</td>\n",
       "      <td>NaN</td>\n",
       "      <td>2.0</td>\n",
       "      <td>2022</td>\n",
       "    </tr>\n",
       "    <tr>\n",
       "      <th>1</th>\n",
       "      <td>1</td>\n",
       "      <td>Tathawade</td>\n",
       "      <td>36 L</td>\n",
       "      <td>670</td>\n",
       "      <td>Under Construction</td>\n",
       "      <td>Possession by Jun 2026</td>\n",
       "      <td>5373</td>\n",
       "      <td>NaN</td>\n",
       "      <td>1.0</td>\n",
       "      <td>2026</td>\n",
       "    </tr>\n",
       "    <tr>\n",
       "      <th>2</th>\n",
       "      <td>2</td>\n",
       "      <td>Tathawade</td>\n",
       "      <td>59 L</td>\n",
       "      <td>1100</td>\n",
       "      <td>Under Construction</td>\n",
       "      <td>Possession by Aug 2025</td>\n",
       "      <td>5363</td>\n",
       "      <td>NaN</td>\n",
       "      <td>2.0</td>\n",
       "      <td>2025</td>\n",
       "    </tr>\n",
       "    <tr>\n",
       "      <th>3</th>\n",
       "      <td>2</td>\n",
       "      <td>Ravet</td>\n",
       "      <td>54 L</td>\n",
       "      <td>1100</td>\n",
       "      <td>Under Construction</td>\n",
       "      <td>Possession by Mar 2025</td>\n",
       "      <td>4909</td>\n",
       "      <td>NaN</td>\n",
       "      <td>2.0</td>\n",
       "      <td>2025</td>\n",
       "    </tr>\n",
       "    <tr>\n",
       "      <th>4</th>\n",
       "      <td>1</td>\n",
       "      <td>Bavdhan</td>\n",
       "      <td>37.5 L</td>\n",
       "      <td>664</td>\n",
       "      <td>Under Construction</td>\n",
       "      <td>Possession by Jun 2024</td>\n",
       "      <td>5647</td>\n",
       "      <td>NaN</td>\n",
       "      <td>1.0</td>\n",
       "      <td>2024</td>\n",
       "    </tr>\n",
       "  </tbody>\n",
       "</table>\n",
       "</div>"
      ],
      "text/plain": [
       "   bhk   locality   Price  sqft              status              Possession  \\\n",
       "0    2      Ravet    45 L  1000  Under Construction  Possession by Dec 2022   \n",
       "1    1  Tathawade    36 L   670  Under Construction  Possession by Jun 2026   \n",
       "2    2  Tathawade    59 L  1100  Under Construction  Possession by Aug 2025   \n",
       "3    2      Ravet    54 L  1100  Under Construction  Possession by Mar 2025   \n",
       "4    1    Bavdhan  37.5 L   664  Under Construction  Possession by Jun 2024   \n",
       "\n",
       "  price_per_sqft  Age_old  bath Possession_Year  \n",
       "0          4500       NaN   2.0            2022  \n",
       "1          5373       NaN   1.0            2026  \n",
       "2          5363       NaN   2.0            2025  \n",
       "3          4909       NaN   2.0            2025  \n",
       "4          5647       NaN   1.0            2024  "
      ]
     },
     "execution_count": 18,
     "metadata": {},
     "output_type": "execute_result"
    }
   ],
   "source": [
    "df.head()"
   ]
  },
  {
   "cell_type": "code",
   "execution_count": 19,
   "metadata": {
    "scrolled": true
   },
   "outputs": [
    {
     "data": {
      "text/plain": [
       "(26293, 10)"
      ]
     },
     "execution_count": 19,
     "metadata": {},
     "output_type": "execute_result"
    }
   ],
   "source": [
    "df.shape"
   ]
  },
  {
   "cell_type": "code",
   "execution_count": 20,
   "metadata": {},
   "outputs": [
    {
     "data": {
      "text/plain": [
       "bhk                    0\n",
       "locality               0\n",
       "Price                  0\n",
       "sqft                   0\n",
       "status                 1\n",
       "Possession             0\n",
       "price_per_sqft         0\n",
       "Age_old            10938\n",
       "bath                5039\n",
       "Possession_Year        0\n",
       "dtype: int64"
      ]
     },
     "execution_count": 20,
     "metadata": {},
     "output_type": "execute_result"
    }
   ],
   "source": [
    "df.isnull().sum()"
   ]
  },
  {
   "cell_type": "markdown",
   "metadata": {},
   "source": [
    "## Normalization"
   ]
  },
  {
   "cell_type": "markdown",
   "metadata": {},
   "source": [
    "As the Data has values in lakhs and Crores we need transform it in the Lakhs."
   ]
  },
  {
   "cell_type": "code",
   "execution_count": 21,
   "metadata": {},
   "outputs": [],
   "source": [
    "df['Conversion_Type'] = df.Price.apply(lambda x : x.split()[-1])"
   ]
  },
  {
   "cell_type": "code",
   "execution_count": 22,
   "metadata": {},
   "outputs": [
    {
     "data": {
      "text/plain": [
       "L     18244\n",
       "Cr     8049\n",
       "Name: Conversion_Type, dtype: int64"
      ]
     },
     "execution_count": 22,
     "metadata": {},
     "output_type": "execute_result"
    }
   ],
   "source": [
    "df.Conversion_Type.value_counts()"
   ]
  },
  {
   "cell_type": "markdown",
   "metadata": {},
   "source": [
    "We have Override the Price of the Data in Price Feature Only."
   ]
  },
  {
   "cell_type": "code",
   "execution_count": 23,
   "metadata": {},
   "outputs": [],
   "source": [
    "df['Price'] = df.Price.apply(lambda x : x.split()[0])"
   ]
  },
  {
   "cell_type": "markdown",
   "metadata": {},
   "source": [
    "The *Price,Possession_Year,price_per_sqft* dtypes are string we need convert it to numeric."
   ]
  },
  {
   "cell_type": "code",
   "execution_count": 24,
   "metadata": {},
   "outputs": [],
   "source": [
    "df[['Price','Possession_Year','price_per_sqft']] = df[['Price','Possession_Year','price_per_sqft']].apply(pd.to_numeric, errors='coerce')"
   ]
  },
  {
   "cell_type": "code",
   "execution_count": 25,
   "metadata": {
    "scrolled": true
   },
   "outputs": [
    {
     "data": {
      "text/plain": [
       "bhk                  int64\n",
       "locality            object\n",
       "Price              float64\n",
       "sqft                 int64\n",
       "status              object\n",
       "Possession          object\n",
       "price_per_sqft       int64\n",
       "Age_old            float64\n",
       "bath               float64\n",
       "Possession_Year      int64\n",
       "Conversion_Type     object\n",
       "dtype: object"
      ]
     },
     "execution_count": 25,
     "metadata": {},
     "output_type": "execute_result"
    }
   ],
   "source": [
    "df.dtypes"
   ]
  },
  {
   "cell_type": "code",
   "execution_count": 26,
   "metadata": {},
   "outputs": [
    {
     "data": {
      "text/html": [
       "<div>\n",
       "<style scoped>\n",
       "    .dataframe tbody tr th:only-of-type {\n",
       "        vertical-align: middle;\n",
       "    }\n",
       "\n",
       "    .dataframe tbody tr th {\n",
       "        vertical-align: top;\n",
       "    }\n",
       "\n",
       "    .dataframe thead th {\n",
       "        text-align: right;\n",
       "    }\n",
       "</style>\n",
       "<table border=\"1\" class=\"dataframe\">\n",
       "  <thead>\n",
       "    <tr style=\"text-align: right;\">\n",
       "      <th></th>\n",
       "      <th>bhk</th>\n",
       "      <th>locality</th>\n",
       "      <th>Price</th>\n",
       "      <th>sqft</th>\n",
       "      <th>status</th>\n",
       "      <th>Possession</th>\n",
       "      <th>price_per_sqft</th>\n",
       "      <th>Age_old</th>\n",
       "      <th>bath</th>\n",
       "      <th>Possession_Year</th>\n",
       "      <th>Conversion_Type</th>\n",
       "    </tr>\n",
       "  </thead>\n",
       "  <tbody>\n",
       "    <tr>\n",
       "      <th>0</th>\n",
       "      <td>2</td>\n",
       "      <td>Ravet</td>\n",
       "      <td>45.0</td>\n",
       "      <td>1000</td>\n",
       "      <td>Under Construction</td>\n",
       "      <td>Possession by Dec 2022</td>\n",
       "      <td>4500</td>\n",
       "      <td>NaN</td>\n",
       "      <td>2.0</td>\n",
       "      <td>2022</td>\n",
       "      <td>L</td>\n",
       "    </tr>\n",
       "    <tr>\n",
       "      <th>1</th>\n",
       "      <td>1</td>\n",
       "      <td>Tathawade</td>\n",
       "      <td>36.0</td>\n",
       "      <td>670</td>\n",
       "      <td>Under Construction</td>\n",
       "      <td>Possession by Jun 2026</td>\n",
       "      <td>5373</td>\n",
       "      <td>NaN</td>\n",
       "      <td>1.0</td>\n",
       "      <td>2026</td>\n",
       "      <td>L</td>\n",
       "    </tr>\n",
       "    <tr>\n",
       "      <th>2</th>\n",
       "      <td>2</td>\n",
       "      <td>Tathawade</td>\n",
       "      <td>59.0</td>\n",
       "      <td>1100</td>\n",
       "      <td>Under Construction</td>\n",
       "      <td>Possession by Aug 2025</td>\n",
       "      <td>5363</td>\n",
       "      <td>NaN</td>\n",
       "      <td>2.0</td>\n",
       "      <td>2025</td>\n",
       "      <td>L</td>\n",
       "    </tr>\n",
       "    <tr>\n",
       "      <th>3</th>\n",
       "      <td>2</td>\n",
       "      <td>Ravet</td>\n",
       "      <td>54.0</td>\n",
       "      <td>1100</td>\n",
       "      <td>Under Construction</td>\n",
       "      <td>Possession by Mar 2025</td>\n",
       "      <td>4909</td>\n",
       "      <td>NaN</td>\n",
       "      <td>2.0</td>\n",
       "      <td>2025</td>\n",
       "      <td>L</td>\n",
       "    </tr>\n",
       "    <tr>\n",
       "      <th>4</th>\n",
       "      <td>1</td>\n",
       "      <td>Bavdhan</td>\n",
       "      <td>37.5</td>\n",
       "      <td>664</td>\n",
       "      <td>Under Construction</td>\n",
       "      <td>Possession by Jun 2024</td>\n",
       "      <td>5647</td>\n",
       "      <td>NaN</td>\n",
       "      <td>1.0</td>\n",
       "      <td>2024</td>\n",
       "      <td>L</td>\n",
       "    </tr>\n",
       "  </tbody>\n",
       "</table>\n",
       "</div>"
      ],
      "text/plain": [
       "   bhk   locality  Price  sqft              status              Possession  \\\n",
       "0    2      Ravet   45.0  1000  Under Construction  Possession by Dec 2022   \n",
       "1    1  Tathawade   36.0   670  Under Construction  Possession by Jun 2026   \n",
       "2    2  Tathawade   59.0  1100  Under Construction  Possession by Aug 2025   \n",
       "3    2      Ravet   54.0  1100  Under Construction  Possession by Mar 2025   \n",
       "4    1    Bavdhan   37.5   664  Under Construction  Possession by Jun 2024   \n",
       "\n",
       "   price_per_sqft  Age_old  bath  Possession_Year Conversion_Type  \n",
       "0            4500      NaN   2.0             2022               L  \n",
       "1            5373      NaN   1.0             2026               L  \n",
       "2            5363      NaN   2.0             2025               L  \n",
       "3            4909      NaN   2.0             2025               L  \n",
       "4            5647      NaN   1.0             2024               L  "
      ]
     },
     "execution_count": 26,
     "metadata": {},
     "output_type": "execute_result"
    }
   ],
   "source": [
    "df.head()"
   ]
  },
  {
   "cell_type": "code",
   "execution_count": 27,
   "metadata": {
    "scrolled": true
   },
   "outputs": [
    {
     "data": {
      "text/plain": [
       "L     18244\n",
       "Cr     8049\n",
       "Name: Conversion_Type, dtype: int64"
      ]
     },
     "execution_count": 27,
     "metadata": {},
     "output_type": "execute_result"
    }
   ],
   "source": [
    "df.Conversion_Type.value_counts()"
   ]
  },
  {
   "cell_type": "markdown",
   "metadata": {},
   "source": [
    "Function to convert Crores to lakhs"
   ]
  },
  {
   "cell_type": "code",
   "execution_count": 28,
   "metadata": {},
   "outputs": [],
   "source": [
    "Price_in_lakhs = []\n",
    "\n",
    "def get_price():\n",
    "    for x,y in zip(df.Conversion_Type,df.Price):\n",
    "        if x == 'Cr':\n",
    "            Price_in_lakhs.append(y*100)\n",
    "        else:\n",
    "            Price_in_lakhs.append(y)"
   ]
  },
  {
   "cell_type": "code",
   "execution_count": 29,
   "metadata": {},
   "outputs": [],
   "source": [
    "get_price()"
   ]
  },
  {
   "cell_type": "code",
   "execution_count": 30,
   "metadata": {},
   "outputs": [],
   "source": [
    "df['Price_Lakhs'] = Price_in_lakhs"
   ]
  },
  {
   "cell_type": "code",
   "execution_count": 31,
   "metadata": {},
   "outputs": [],
   "source": [
    "df.drop(columns=['Price','Possession','Conversion_Type'],axis=1,inplace=True)"
   ]
  },
  {
   "cell_type": "code",
   "execution_count": 32,
   "metadata": {
    "scrolled": false
   },
   "outputs": [
    {
     "data": {
      "text/html": [
       "<div>\n",
       "<style scoped>\n",
       "    .dataframe tbody tr th:only-of-type {\n",
       "        vertical-align: middle;\n",
       "    }\n",
       "\n",
       "    .dataframe tbody tr th {\n",
       "        vertical-align: top;\n",
       "    }\n",
       "\n",
       "    .dataframe thead th {\n",
       "        text-align: right;\n",
       "    }\n",
       "</style>\n",
       "<table border=\"1\" class=\"dataframe\">\n",
       "  <thead>\n",
       "    <tr style=\"text-align: right;\">\n",
       "      <th></th>\n",
       "      <th>bhk</th>\n",
       "      <th>locality</th>\n",
       "      <th>sqft</th>\n",
       "      <th>status</th>\n",
       "      <th>price_per_sqft</th>\n",
       "      <th>Age_old</th>\n",
       "      <th>bath</th>\n",
       "      <th>Possession_Year</th>\n",
       "      <th>Price_Lakhs</th>\n",
       "    </tr>\n",
       "  </thead>\n",
       "  <tbody>\n",
       "    <tr>\n",
       "      <th>58051</th>\n",
       "      <td>2</td>\n",
       "      <td>Tathawade</td>\n",
       "      <td>887</td>\n",
       "      <td>Under Construction</td>\n",
       "      <td>7891</td>\n",
       "      <td>NaN</td>\n",
       "      <td>2.0</td>\n",
       "      <td>2023</td>\n",
       "      <td>70.0</td>\n",
       "    </tr>\n",
       "    <tr>\n",
       "      <th>58054</th>\n",
       "      <td>2</td>\n",
       "      <td>Vishrantwadi</td>\n",
       "      <td>1250</td>\n",
       "      <td>Ready to move</td>\n",
       "      <td>5600</td>\n",
       "      <td>11.0</td>\n",
       "      <td>2.0</td>\n",
       "      <td>2121</td>\n",
       "      <td>70.0</td>\n",
       "    </tr>\n",
       "    <tr>\n",
       "      <th>58055</th>\n",
       "      <td>2</td>\n",
       "      <td>Tathawade</td>\n",
       "      <td>900</td>\n",
       "      <td>Ready to move</td>\n",
       "      <td>4666</td>\n",
       "      <td>0.0</td>\n",
       "      <td>2.0</td>\n",
       "      <td>2121</td>\n",
       "      <td>42.0</td>\n",
       "    </tr>\n",
       "    <tr>\n",
       "      <th>58056</th>\n",
       "      <td>1</td>\n",
       "      <td>Vishrantwadi</td>\n",
       "      <td>750</td>\n",
       "      <td>Ready to move</td>\n",
       "      <td>4533</td>\n",
       "      <td>13.0</td>\n",
       "      <td>1.0</td>\n",
       "      <td>2121</td>\n",
       "      <td>34.0</td>\n",
       "    </tr>\n",
       "    <tr>\n",
       "      <th>58059</th>\n",
       "      <td>2</td>\n",
       "      <td>Ravet</td>\n",
       "      <td>1024</td>\n",
       "      <td>Under Construction</td>\n",
       "      <td>6054</td>\n",
       "      <td>NaN</td>\n",
       "      <td>2.0</td>\n",
       "      <td>2023</td>\n",
       "      <td>62.0</td>\n",
       "    </tr>\n",
       "  </tbody>\n",
       "</table>\n",
       "</div>"
      ],
      "text/plain": [
       "       bhk      locality  sqft              status  price_per_sqft  Age_old  \\\n",
       "58051    2     Tathawade   887  Under Construction            7891      NaN   \n",
       "58054    2  Vishrantwadi  1250       Ready to move            5600     11.0   \n",
       "58055    2     Tathawade   900       Ready to move            4666      0.0   \n",
       "58056    1  Vishrantwadi   750       Ready to move            4533     13.0   \n",
       "58059    2         Ravet  1024  Under Construction            6054      NaN   \n",
       "\n",
       "       bath  Possession_Year  Price_Lakhs  \n",
       "58051   2.0             2023         70.0  \n",
       "58054   2.0             2121         70.0  \n",
       "58055   2.0             2121         42.0  \n",
       "58056   1.0             2121         34.0  \n",
       "58059   2.0             2023         62.0  "
      ]
     },
     "execution_count": 32,
     "metadata": {},
     "output_type": "execute_result"
    }
   ],
   "source": [
    "df.tail()"
   ]
  },
  {
   "cell_type": "code",
   "execution_count": 33,
   "metadata": {},
   "outputs": [],
   "source": [
    "df.Age_old.fillna(121,inplace=True)"
   ]
  },
  {
   "cell_type": "code",
   "execution_count": 34,
   "metadata": {},
   "outputs": [
    {
     "data": {
      "text/plain": [
       "(26293, 9)"
      ]
     },
     "execution_count": 34,
     "metadata": {},
     "output_type": "execute_result"
    }
   ],
   "source": [
    "df.shape"
   ]
  },
  {
   "cell_type": "code",
   "execution_count": 35,
   "metadata": {},
   "outputs": [],
   "source": [
    "year_list = []\n",
    "\n",
    "def get_year():\n",
    "    for x,y in zip(df.Possession_Year,df.Age_old):\n",
    "        if x == 2121 and y != 121:\n",
    "            year_list.append(2021-y)\n",
    "        elif x != 2121 and y == 121:\n",
    "            year_list.append(x)\n",
    "        elif x == 2121 and y == 121:\n",
    "            year_list.append(2021)\n",
    "        elif x != 2121 and y != 121:\n",
    "            year_list.append(2021-y)"
   ]
  },
  {
   "cell_type": "code",
   "execution_count": 36,
   "metadata": {},
   "outputs": [],
   "source": [
    "get_year()"
   ]
  },
  {
   "cell_type": "code",
   "execution_count": 37,
   "metadata": {},
   "outputs": [],
   "source": [
    "df['Build_year'] = year_list"
   ]
  },
  {
   "cell_type": "code",
   "execution_count": 38,
   "metadata": {
    "scrolled": true
   },
   "outputs": [
    {
     "data": {
      "text/plain": [
       "2021.0    2700\n",
       "2022.0    2443\n",
       "2023.0    2345\n",
       "2024.0    1872\n",
       "2020.0    1801\n",
       "Name: Build_year, dtype: int64"
      ]
     },
     "execution_count": 38,
     "metadata": {},
     "output_type": "execute_result"
    }
   ],
   "source": [
    "df.Build_year.value_counts().head()"
   ]
  },
  {
   "cell_type": "code",
   "execution_count": 39,
   "metadata": {},
   "outputs": [],
   "source": [
    "get_age_number = []\n",
    "\n",
    "def get_age():\n",
    "    for x,y in zip(df.Build_year,df.Age_old):\n",
    "        get_age_number.append(x-2021)"
   ]
  },
  {
   "cell_type": "code",
   "execution_count": 40,
   "metadata": {},
   "outputs": [],
   "source": [
    "get_age()"
   ]
  },
  {
   "cell_type": "code",
   "execution_count": 41,
   "metadata": {},
   "outputs": [],
   "source": [
    "df['Age'] = get_age_number"
   ]
  },
  {
   "cell_type": "code",
   "execution_count": 42,
   "metadata": {},
   "outputs": [
    {
     "data": {
      "text/html": [
       "<div>\n",
       "<style scoped>\n",
       "    .dataframe tbody tr th:only-of-type {\n",
       "        vertical-align: middle;\n",
       "    }\n",
       "\n",
       "    .dataframe tbody tr th {\n",
       "        vertical-align: top;\n",
       "    }\n",
       "\n",
       "    .dataframe thead th {\n",
       "        text-align: right;\n",
       "    }\n",
       "</style>\n",
       "<table border=\"1\" class=\"dataframe\">\n",
       "  <thead>\n",
       "    <tr style=\"text-align: right;\">\n",
       "      <th></th>\n",
       "      <th>bhk</th>\n",
       "      <th>locality</th>\n",
       "      <th>sqft</th>\n",
       "      <th>status</th>\n",
       "      <th>price_per_sqft</th>\n",
       "      <th>Age_old</th>\n",
       "      <th>bath</th>\n",
       "      <th>Possession_Year</th>\n",
       "      <th>Price_Lakhs</th>\n",
       "      <th>Build_year</th>\n",
       "      <th>Age</th>\n",
       "    </tr>\n",
       "  </thead>\n",
       "  <tbody>\n",
       "    <tr>\n",
       "      <th>0</th>\n",
       "      <td>2</td>\n",
       "      <td>Ravet</td>\n",
       "      <td>1000</td>\n",
       "      <td>Under Construction</td>\n",
       "      <td>4500</td>\n",
       "      <td>121.0</td>\n",
       "      <td>2.0</td>\n",
       "      <td>2022</td>\n",
       "      <td>45.0</td>\n",
       "      <td>2022.0</td>\n",
       "      <td>1.0</td>\n",
       "    </tr>\n",
       "    <tr>\n",
       "      <th>1</th>\n",
       "      <td>1</td>\n",
       "      <td>Tathawade</td>\n",
       "      <td>670</td>\n",
       "      <td>Under Construction</td>\n",
       "      <td>5373</td>\n",
       "      <td>121.0</td>\n",
       "      <td>1.0</td>\n",
       "      <td>2026</td>\n",
       "      <td>36.0</td>\n",
       "      <td>2026.0</td>\n",
       "      <td>5.0</td>\n",
       "    </tr>\n",
       "    <tr>\n",
       "      <th>2</th>\n",
       "      <td>2</td>\n",
       "      <td>Tathawade</td>\n",
       "      <td>1100</td>\n",
       "      <td>Under Construction</td>\n",
       "      <td>5363</td>\n",
       "      <td>121.0</td>\n",
       "      <td>2.0</td>\n",
       "      <td>2025</td>\n",
       "      <td>59.0</td>\n",
       "      <td>2025.0</td>\n",
       "      <td>4.0</td>\n",
       "    </tr>\n",
       "    <tr>\n",
       "      <th>3</th>\n",
       "      <td>2</td>\n",
       "      <td>Ravet</td>\n",
       "      <td>1100</td>\n",
       "      <td>Under Construction</td>\n",
       "      <td>4909</td>\n",
       "      <td>121.0</td>\n",
       "      <td>2.0</td>\n",
       "      <td>2025</td>\n",
       "      <td>54.0</td>\n",
       "      <td>2025.0</td>\n",
       "      <td>4.0</td>\n",
       "    </tr>\n",
       "    <tr>\n",
       "      <th>4</th>\n",
       "      <td>1</td>\n",
       "      <td>Bavdhan</td>\n",
       "      <td>664</td>\n",
       "      <td>Under Construction</td>\n",
       "      <td>5647</td>\n",
       "      <td>121.0</td>\n",
       "      <td>1.0</td>\n",
       "      <td>2024</td>\n",
       "      <td>37.5</td>\n",
       "      <td>2024.0</td>\n",
       "      <td>3.0</td>\n",
       "    </tr>\n",
       "  </tbody>\n",
       "</table>\n",
       "</div>"
      ],
      "text/plain": [
       "   bhk   locality  sqft              status  price_per_sqft  Age_old  bath  \\\n",
       "0    2      Ravet  1000  Under Construction            4500    121.0   2.0   \n",
       "1    1  Tathawade   670  Under Construction            5373    121.0   1.0   \n",
       "2    2  Tathawade  1100  Under Construction            5363    121.0   2.0   \n",
       "3    2      Ravet  1100  Under Construction            4909    121.0   2.0   \n",
       "4    1    Bavdhan   664  Under Construction            5647    121.0   1.0   \n",
       "\n",
       "   Possession_Year  Price_Lakhs  Build_year  Age  \n",
       "0             2022         45.0      2022.0  1.0  \n",
       "1             2026         36.0      2026.0  5.0  \n",
       "2             2025         59.0      2025.0  4.0  \n",
       "3             2025         54.0      2025.0  4.0  \n",
       "4             2024         37.5      2024.0  3.0  "
      ]
     },
     "execution_count": 42,
     "metadata": {},
     "output_type": "execute_result"
    }
   ],
   "source": [
    "df.head()"
   ]
  },
  {
   "cell_type": "markdown",
   "metadata": {},
   "source": [
    "## Detecting the Outliers"
   ]
  },
  {
   "cell_type": "markdown",
   "metadata": {},
   "source": [
    "We will drop few columns which will be not necessary for creating the model."
   ]
  },
  {
   "cell_type": "code",
   "execution_count": 43,
   "metadata": {},
   "outputs": [],
   "source": [
    "df.drop(columns=['status','Age_old','Possession_Year'],axis=1,inplace=True)"
   ]
  },
  {
   "cell_type": "code",
   "execution_count": 44,
   "metadata": {
    "scrolled": false
   },
   "outputs": [
    {
     "data": {
      "text/html": [
       "<div>\n",
       "<style scoped>\n",
       "    .dataframe tbody tr th:only-of-type {\n",
       "        vertical-align: middle;\n",
       "    }\n",
       "\n",
       "    .dataframe tbody tr th {\n",
       "        vertical-align: top;\n",
       "    }\n",
       "\n",
       "    .dataframe thead th {\n",
       "        text-align: right;\n",
       "    }\n",
       "</style>\n",
       "<table border=\"1\" class=\"dataframe\">\n",
       "  <thead>\n",
       "    <tr style=\"text-align: right;\">\n",
       "      <th></th>\n",
       "      <th>bhk</th>\n",
       "      <th>sqft</th>\n",
       "      <th>price_per_sqft</th>\n",
       "      <th>bath</th>\n",
       "      <th>Price_Lakhs</th>\n",
       "      <th>Build_year</th>\n",
       "      <th>Age</th>\n",
       "    </tr>\n",
       "  </thead>\n",
       "  <tbody>\n",
       "    <tr>\n",
       "      <th>count</th>\n",
       "      <td>26293.000000</td>\n",
       "      <td>26293.000000</td>\n",
       "      <td>26293.000000</td>\n",
       "      <td>21254.000000</td>\n",
       "      <td>26293.000000</td>\n",
       "      <td>26293.000000</td>\n",
       "      <td>26293.000000</td>\n",
       "    </tr>\n",
       "    <tr>\n",
       "      <th>mean</th>\n",
       "      <td>2.306241</td>\n",
       "      <td>1263.274446</td>\n",
       "      <td>7830.440193</td>\n",
       "      <td>2.379693</td>\n",
       "      <td>105.009617</td>\n",
       "      <td>2016.519910</td>\n",
       "      <td>-4.480090</td>\n",
       "    </tr>\n",
       "    <tr>\n",
       "      <th>std</th>\n",
       "      <td>0.818501</td>\n",
       "      <td>839.292115</td>\n",
       "      <td>3121.090794</td>\n",
       "      <td>0.938064</td>\n",
       "      <td>102.920637</td>\n",
       "      <td>28.202798</td>\n",
       "      <td>28.202798</td>\n",
       "    </tr>\n",
       "    <tr>\n",
       "      <th>min</th>\n",
       "      <td>1.000000</td>\n",
       "      <td>195.000000</td>\n",
       "      <td>418.000000</td>\n",
       "      <td>1.000000</td>\n",
       "      <td>2.400000</td>\n",
       "      <td>1.000000</td>\n",
       "      <td>-2020.000000</td>\n",
       "    </tr>\n",
       "    <tr>\n",
       "      <th>25%</th>\n",
       "      <td>2.000000</td>\n",
       "      <td>783.000000</td>\n",
       "      <td>5833.000000</td>\n",
       "      <td>2.000000</td>\n",
       "      <td>50.970000</td>\n",
       "      <td>2015.000000</td>\n",
       "      <td>-6.000000</td>\n",
       "    </tr>\n",
       "    <tr>\n",
       "      <th>50%</th>\n",
       "      <td>2.000000</td>\n",
       "      <td>1024.000000</td>\n",
       "      <td>7241.000000</td>\n",
       "      <td>2.000000</td>\n",
       "      <td>72.000000</td>\n",
       "      <td>2019.000000</td>\n",
       "      <td>-2.000000</td>\n",
       "    </tr>\n",
       "    <tr>\n",
       "      <th>75%</th>\n",
       "      <td>3.000000</td>\n",
       "      <td>1410.000000</td>\n",
       "      <td>9230.000000</td>\n",
       "      <td>3.000000</td>\n",
       "      <td>115.000000</td>\n",
       "      <td>2022.000000</td>\n",
       "      <td>1.000000</td>\n",
       "    </tr>\n",
       "    <tr>\n",
       "      <th>max</th>\n",
       "      <td>8.000000</td>\n",
       "      <td>9500.000000</td>\n",
       "      <td>113333.000000</td>\n",
       "      <td>9.000000</td>\n",
       "      <td>1000.000000</td>\n",
       "      <td>2030.000000</td>\n",
       "      <td>9.000000</td>\n",
       "    </tr>\n",
       "  </tbody>\n",
       "</table>\n",
       "</div>"
      ],
      "text/plain": [
       "                bhk          sqft  price_per_sqft          bath   Price_Lakhs  \\\n",
       "count  26293.000000  26293.000000    26293.000000  21254.000000  26293.000000   \n",
       "mean       2.306241   1263.274446     7830.440193      2.379693    105.009617   \n",
       "std        0.818501    839.292115     3121.090794      0.938064    102.920637   \n",
       "min        1.000000    195.000000      418.000000      1.000000      2.400000   \n",
       "25%        2.000000    783.000000     5833.000000      2.000000     50.970000   \n",
       "50%        2.000000   1024.000000     7241.000000      2.000000     72.000000   \n",
       "75%        3.000000   1410.000000     9230.000000      3.000000    115.000000   \n",
       "max        8.000000   9500.000000   113333.000000      9.000000   1000.000000   \n",
       "\n",
       "         Build_year           Age  \n",
       "count  26293.000000  26293.000000  \n",
       "mean    2016.519910     -4.480090  \n",
       "std       28.202798     28.202798  \n",
       "min        1.000000  -2020.000000  \n",
       "25%     2015.000000     -6.000000  \n",
       "50%     2019.000000     -2.000000  \n",
       "75%     2022.000000      1.000000  \n",
       "max     2030.000000      9.000000  "
      ]
     },
     "execution_count": 44,
     "metadata": {},
     "output_type": "execute_result"
    }
   ],
   "source": [
    "df.describe()"
   ]
  },
  {
   "cell_type": "code",
   "execution_count": 45,
   "metadata": {},
   "outputs": [
    {
     "data": {
      "text/plain": [
       "<AxesSubplot:xlabel='price_per_sqft'>"
      ]
     },
     "execution_count": 45,
     "metadata": {},
     "output_type": "execute_result"
    },
    {
     "data": {
      "image/png": "[encoded data removed]",
      "text/plain": [
       "<Figure size 432x288 with 2 Axes>"
      ]
     },
     "metadata": {},
     "output_type": "display_data"
    },
    {
     "data": {
      "image/png": "[encoded data removed]",
      "text/plain": [
       "<Figure size 432x288 with 2 Axes>"
      ]
     },
     "metadata": {},
     "output_type": "display_data"
    }
   ],
   "source": [
    "fig = plt.figure() # create figure\n",
    "\n",
    "plot1 = fig.add_subplot(1,2,1) # add subplot 1 (1 row, 2 columns, first plot)\n",
    "plot2 = fig.add_subplot(1,2,2) # add subplot 2 (1 row, 2 columns, second plot). See tip below**\n",
    "sns.boxplot(x='Price_Lakhs',data=df,ax=plot1,width=0.5,color='green',fliersize=2,linewidth=1)\n",
    "sns.boxplot(x='sqft',data=df,ax=plot2,width=0.5,color='green',fliersize=2,linewidth=1)\n",
    "\n",
    "\n",
    "\n",
    "fig = plt.figure() # create figure\n",
    "\n",
    "plot1 = fig.add_subplot(1,2,1) # add subplot 1 (1 row, 2 columns, first plot)\n",
    "plot2 = fig.add_subplot(1,2,2) # add subplot 2 (1 row, 2 columns, second plot). See tip below**\n",
    "sns.boxplot(x='Age',data=df,ax=plot1,width=0.5,color='green',fliersize=2,linewidth=1)\n",
    "sns.boxplot(x='price_per_sqft',data=df,ax=plot2,width=0.5,color='green',fliersize=2,linewidth=1)"
   ]
  },
  {
   "cell_type": "code",
   "execution_count": 46,
   "metadata": {},
   "outputs": [],
   "source": [
    "# df1 = df[(df['Build_year'] > 1980) & (df['price_per_sqft'] < 11000) & (df['sqft'] <= 6000) & (df['sqft'] > 250) & (df['bath'] < 7)]"
   ]
  },
  {
   "cell_type": "code",
   "execution_count": 48,
   "metadata": {},
   "outputs": [],
   "source": [
    "# fig = plt.figure() # create figure\n",
    "\n",
    "# plot1 = fig.add_subplot(1,2,1) # add subplot 1 (1 row, 2 columns, first plot)\n",
    "# plot2 = fig.add_subplot(1,2,2) # add subplot 2 (1 row, 2 columns, second plot). See tip below**\n",
    "# sns.boxplot(x='Price_Lakhs',data=df1,ax=plot1,width=0.5,color='green',fliersize=2,linewidth=1)\n",
    "# sns.boxplot(x='sqft',data=df1,ax=plot2,width=0.5,color='green',fliersize=2,linewidth=1)\n",
    "\n",
    "# fig = plt.figure() # create figure\n",
    "\n",
    "# plot1 = fig.add_subplot(1,2,1) # add subplot 1 (1 row, 2 columns, first plot)\n",
    "# plot2 = fig.add_subplot(1,2,2) # add subplot 2 (1 row, 2 columns, second plot). See tip below**\n",
    "# sns.boxplot(x='Age',data=df1,ax=plot1,width=0.5,color='green',fliersize=2,linewidth=1)\n",
    "# sns.boxplot(x='price_per_sqft',data=df1,ax=plot2,width=0.5,color='green',fliersize=2,linewidth=1)"
   ]
  },
  {
   "cell_type": "code",
   "execution_count": 49,
   "metadata": {
    "scrolled": true
   },
   "outputs": [
    {
     "data": {
      "text/html": [
       "<div>\n",
       "<style scoped>\n",
       "    .dataframe tbody tr th:only-of-type {\n",
       "        vertical-align: middle;\n",
       "    }\n",
       "\n",
       "    .dataframe tbody tr th {\n",
       "        vertical-align: top;\n",
       "    }\n",
       "\n",
       "    .dataframe thead th {\n",
       "        text-align: right;\n",
       "    }\n",
       "</style>\n",
       "<table border=\"1\" class=\"dataframe\">\n",
       "  <thead>\n",
       "    <tr style=\"text-align: right;\">\n",
       "      <th></th>\n",
       "      <th>bhk</th>\n",
       "      <th>locality</th>\n",
       "      <th>sqft</th>\n",
       "      <th>price_per_sqft</th>\n",
       "      <th>bath</th>\n",
       "      <th>Price_Lakhs</th>\n",
       "      <th>Build_year</th>\n",
       "      <th>Age</th>\n",
       "    </tr>\n",
       "  </thead>\n",
       "  <tbody>\n",
       "    <tr>\n",
       "      <th>0</th>\n",
       "      <td>2</td>\n",
       "      <td>Ravet</td>\n",
       "      <td>1000</td>\n",
       "      <td>4500</td>\n",
       "      <td>2.0</td>\n",
       "      <td>45.0</td>\n",
       "      <td>2022.0</td>\n",
       "      <td>1.0</td>\n",
       "    </tr>\n",
       "    <tr>\n",
       "      <th>1</th>\n",
       "      <td>1</td>\n",
       "      <td>Tathawade</td>\n",
       "      <td>670</td>\n",
       "      <td>5373</td>\n",
       "      <td>1.0</td>\n",
       "      <td>36.0</td>\n",
       "      <td>2026.0</td>\n",
       "      <td>5.0</td>\n",
       "    </tr>\n",
       "    <tr>\n",
       "      <th>2</th>\n",
       "      <td>2</td>\n",
       "      <td>Tathawade</td>\n",
       "      <td>1100</td>\n",
       "      <td>5363</td>\n",
       "      <td>2.0</td>\n",
       "      <td>59.0</td>\n",
       "      <td>2025.0</td>\n",
       "      <td>4.0</td>\n",
       "    </tr>\n",
       "    <tr>\n",
       "      <th>3</th>\n",
       "      <td>2</td>\n",
       "      <td>Ravet</td>\n",
       "      <td>1100</td>\n",
       "      <td>4909</td>\n",
       "      <td>2.0</td>\n",
       "      <td>54.0</td>\n",
       "      <td>2025.0</td>\n",
       "      <td>4.0</td>\n",
       "    </tr>\n",
       "    <tr>\n",
       "      <th>4</th>\n",
       "      <td>1</td>\n",
       "      <td>Bavdhan</td>\n",
       "      <td>664</td>\n",
       "      <td>5647</td>\n",
       "      <td>1.0</td>\n",
       "      <td>37.5</td>\n",
       "      <td>2024.0</td>\n",
       "      <td>3.0</td>\n",
       "    </tr>\n",
       "  </tbody>\n",
       "</table>\n",
       "</div>"
      ],
      "text/plain": [
       "   bhk   locality  sqft  price_per_sqft  bath  Price_Lakhs  Build_year  Age\n",
       "0    2      Ravet  1000            4500   2.0         45.0      2022.0  1.0\n",
       "1    1  Tathawade   670            5373   1.0         36.0      2026.0  5.0\n",
       "2    2  Tathawade  1100            5363   2.0         59.0      2025.0  4.0\n",
       "3    2      Ravet  1100            4909   2.0         54.0      2025.0  4.0\n",
       "4    1    Bavdhan   664            5647   1.0         37.5      2024.0  3.0"
      ]
     },
     "execution_count": 49,
     "metadata": {},
     "output_type": "execute_result"
    }
   ],
   "source": [
    "df.head()"
   ]
  },
  {
   "cell_type": "code",
   "execution_count": 50,
   "metadata": {},
   "outputs": [],
   "source": [
    "df.to_csv('../3. Exploratory Data Analysis/Pune_Housing.csv')"
   ]
  }
 ],
 "metadata": {
  "kernelspec": {
   "display_name": "Python 3",
   "language": "python",
   "name": "python3"
  },
  "language_info": {
   "codemirror_mode": {
    "name": "ipython",
    "version": 3
   },
   "file_extension": ".py",
   "mimetype": "text/x-python",
   "name": "python",
   "nbconvert_exporter": "python",
   "pygments_lexer": "ipython3",
   "version": "3.8.5"
  }
 },
 "nbformat": 4,
 "nbformat_minor": 4
}

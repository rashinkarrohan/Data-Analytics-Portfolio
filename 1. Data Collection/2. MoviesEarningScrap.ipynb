{
 "cells": [
  {
   "cell_type": "markdown",
   "metadata": {},
   "source": [
    "<center>\n",
    "    <img src=\"https://www.the-numbers.com/images/the-numbers-banner.png\" width=\"500\" alt=\"Number logo\"  />\n",
    "</center>\n"
   ]
  },
  {
   "cell_type": "markdown",
   "metadata": {},
   "source": [
    "# Objective: Scrap Movies Box Office Collection Data."
   ]
  },
  {
   "cell_type": "markdown",
   "metadata": {},
   "source": [
    "## Import  Libraries\n",
    "To Scrap the Data, we will need some tools at our disposal to make the process as seamless as possible. We will not go through all the libraries but will take the time to explain a few.\n",
    "\n",
    "1. **BeautifulSoup** - This Library is used for Extracting or Scraping Data from the Website.\n",
    "2. **csv** - To Save the data in the csv format.\n",
    "3. **requests** - requests module allows you to send HTTP requests using Python.\n"
   ]
  },
  {
   "cell_type": "code",
   "execution_count": 2,
   "metadata": {},
   "outputs": [],
   "source": [
    "import requests\n",
    "from bs4 import BeautifulSoup\n",
    "import csv"
   ]
  },
  {
   "cell_type": "markdown",
   "metadata": {},
   "source": [
    "## Getting Url \n",
    "To get Data,we need the website url from which we have to extract the data which is required for Analysis or Information Purpose."
   ]
  },
  {
   "cell_type": "code",
   "execution_count": 3,
   "metadata": {},
   "outputs": [],
   "source": [
    "def get_url(number):\n",
    "    demo_url = 'https://www.the-numbers.com/box-office-records/worldwide/all-movies/cumulative/all-time/{}'\n",
    "    url = demo_url.format(number)\n",
    "    return url"
   ]
  },
  {
   "cell_type": "code",
   "execution_count": 4,
   "metadata": {},
   "outputs": [
    {
     "name": "stdout",
     "output_type": "stream",
     "text": [
      "https://www.the-numbers.com/box-office-records/worldwide/all-movies/cumulative/all-time/1\n"
     ]
    }
   ],
   "source": [
    "print(get_url(1))"
   ]
  },
  {
   "cell_type": "markdown",
   "metadata": {},
   "source": [
    "## Getting Output"
   ]
  },
  {
   "cell_type": "markdown",
   "metadata": {},
   "source": [
    "We will be getting output for each record and will be calling get_output() function from the MoviesEarning()"
   ]
  },
  {
   "cell_type": "code",
   "execution_count": 5,
   "metadata": {},
   "outputs": [],
   "source": [
    "def get_output(in_put):\n",
    "    \n",
    "    try:\n",
    "        Rank = in_put.find_all('td')[0].text.strip()\n",
    "    except AttributeError:\n",
    "        Rank = ''\n",
    "        \n",
    "    try:\n",
    "        Year = in_put.find_all('td')[1].text.strip()\n",
    "    except AttributeError:\n",
    "        Year = ''\n",
    "        \n",
    "    try:\n",
    "        Film = in_put.find_all('td')[2].text.strip()    \n",
    "    except AttributeError:\n",
    "        Film = ''\n",
    "        \n",
    "    try:\n",
    "        Worldwide = in_put.find_all('td')[3].text.strip()\n",
    "    except:\n",
    "        Worldwide = ''\n",
    "    \n",
    "    try:\n",
    "        Domestic = in_put.find_all('td')[4].text.strip()\n",
    "    except:\n",
    "        Domestic = ''\n",
    "        \n",
    "    try:\n",
    "        International = in_put.find_all('td')[5].text.strip()\n",
    "    except:\n",
    "        International = ''\n",
    "    \n",
    "    output = (Rank,Year,Film,Worldwide,Domestic,International)\n",
    "    \n",
    "    return output"
   ]
  },
  {
   "cell_type": "code",
   "execution_count": 6,
   "metadata": {},
   "outputs": [],
   "source": [
    "def MoviesEarning():\n",
    "    output = []\n",
    "    print(\"Enter the records , It should between 100 to 30000 : \")\n",
    "    n = int(input())\n",
    "    for i in range(1,n,100):\n",
    "        url = get_url(i)\n",
    "        response = requests.get(url).text\n",
    "        soup = BeautifulSoup(response,'html.parser')\n",
    "        in_puts = soup.find('tbody').find_all('tr')\n",
    "        for in_put in in_puts:\n",
    "            output.append(get_output(in_put))\n",
    "    \n",
    "    \n",
    "    with open('MoviesEarningdemo.csv','w',newline='',encoding='utf-8') as file:\n",
    "        a = csv.writer(file)\n",
    "        a.writerow(['Rank','Year','Film','Worldwide','Domestic','International'])\n",
    "        a.writerows(output)"
   ]
  },
  {
   "cell_type": "code",
   "execution_count": 8,
   "metadata": {},
   "outputs": [
    {
     "name": "stdout",
     "output_type": "stream",
     "text": [
      "Enter the records , It should between 100 to 30000 : \n",
      "2\n"
     ]
    }
   ],
   "source": [
    " MoviesEarning()"
   ]
  },
  {
   "cell_type": "code",
   "execution_count": 4,
   "metadata": {},
   "outputs": [],
   "source": [
    "import pandas as pd"
   ]
  },
  {
   "cell_type": "code",
   "execution_count": 5,
   "metadata": {},
   "outputs": [],
   "source": [
    "df = pd.read_csv('MoviesEarningdemo.csv')"
   ]
  },
  {
   "cell_type": "markdown",
   "metadata": {},
   "source": [
    "### *Top 10 **highest-grossing** films, worldwide, of all time.*"
   ]
  },
  {
   "cell_type": "code",
   "execution_count": 7,
   "metadata": {},
   "outputs": [],
   "source": [
    "new_df = df.head(10)"
   ]
  },
  {
   "cell_type": "code",
   "execution_count": 10,
   "metadata": {},
   "outputs": [
    {
     "data": {
      "text/html": [
       "<div>\n",
       "<style scoped>\n",
       "    .dataframe tbody tr th:only-of-type {\n",
       "        vertical-align: middle;\n",
       "    }\n",
       "\n",
       "    .dataframe tbody tr th {\n",
       "        vertical-align: top;\n",
       "    }\n",
       "\n",
       "    .dataframe thead th {\n",
       "        text-align: right;\n",
       "    }\n",
       "</style>\n",
       "<table border=\"1\" class=\"dataframe\">\n",
       "  <thead>\n",
       "    <tr style=\"text-align: right;\">\n",
       "      <th></th>\n",
       "      <th>Rank</th>\n",
       "      <th>Year</th>\n",
       "      <th>Film</th>\n",
       "      <th>Worldwide</th>\n",
       "      <th>Domestic</th>\n",
       "      <th>International</th>\n",
       "    </tr>\n",
       "  </thead>\n",
       "  <tbody>\n",
       "    <tr>\n",
       "      <th>0</th>\n",
       "      <td>1</td>\n",
       "      <td>2009</td>\n",
       "      <td>Avatar</td>\n",
       "      <td>$2,801,593,640</td>\n",
       "      <td>$760,507,625</td>\n",
       "      <td>$2,041,086,015</td>\n",
       "    </tr>\n",
       "    <tr>\n",
       "      <th>1</th>\n",
       "      <td>2</td>\n",
       "      <td>2019</td>\n",
       "      <td>Avengers: Endgame</td>\n",
       "      <td>$2,797,800,564</td>\n",
       "      <td>$858,373,000</td>\n",
       "      <td>$1,939,427,564</td>\n",
       "    </tr>\n",
       "    <tr>\n",
       "      <th>2</th>\n",
       "      <td>3</td>\n",
       "      <td>1997</td>\n",
       "      <td>Titanic</td>\n",
       "      <td>$2,207,986,545</td>\n",
       "      <td>$659,363,944</td>\n",
       "      <td>$1,548,622,601</td>\n",
       "    </tr>\n",
       "    <tr>\n",
       "      <th>3</th>\n",
       "      <td>4</td>\n",
       "      <td>2015</td>\n",
       "      <td>Star Wars Ep. VII: The Force Awakens</td>\n",
       "      <td>$2,065,478,084</td>\n",
       "      <td>$936,662,225</td>\n",
       "      <td>$1,128,815,859</td>\n",
       "    </tr>\n",
       "    <tr>\n",
       "      <th>4</th>\n",
       "      <td>5</td>\n",
       "      <td>2018</td>\n",
       "      <td>Avengers: Infinity War</td>\n",
       "      <td>$2,044,540,523</td>\n",
       "      <td>$678,815,482</td>\n",
       "      <td>$1,365,725,041</td>\n",
       "    </tr>\n",
       "    <tr>\n",
       "      <th>5</th>\n",
       "      <td>6</td>\n",
       "      <td>2015</td>\n",
       "      <td>Jurassic World</td>\n",
       "      <td>$1,669,979,967</td>\n",
       "      <td>$652,306,625</td>\n",
       "      <td>$1,017,673,342</td>\n",
       "    </tr>\n",
       "    <tr>\n",
       "      <th>6</th>\n",
       "      <td>7</td>\n",
       "      <td>2019</td>\n",
       "      <td>The Lion King</td>\n",
       "      <td>$1,654,381,934</td>\n",
       "      <td>$543,638,043</td>\n",
       "      <td>$1,110,743,891</td>\n",
       "    </tr>\n",
       "    <tr>\n",
       "      <th>7</th>\n",
       "      <td>8</td>\n",
       "      <td>2015</td>\n",
       "      <td>Furious 7</td>\n",
       "      <td>$1,517,179,709</td>\n",
       "      <td>$353,007,020</td>\n",
       "      <td>$1,164,172,689</td>\n",
       "    </tr>\n",
       "    <tr>\n",
       "      <th>8</th>\n",
       "      <td>9</td>\n",
       "      <td>2012</td>\n",
       "      <td>The Avengers</td>\n",
       "      <td>$1,515,100,211</td>\n",
       "      <td>$623,357,910</td>\n",
       "      <td>$891,742,301</td>\n",
       "    </tr>\n",
       "    <tr>\n",
       "      <th>9</th>\n",
       "      <td>10</td>\n",
       "      <td>2019</td>\n",
       "      <td>Frozen II</td>\n",
       "      <td>$1,447,244,586</td>\n",
       "      <td>$477,373,578</td>\n",
       "      <td>$969,871,008</td>\n",
       "    </tr>\n",
       "  </tbody>\n",
       "</table>\n",
       "</div>"
      ],
      "text/plain": [
       "   Rank  Year                                  Film       Worldwide  \\\n",
       "0     1  2009                                Avatar  $2,801,593,640   \n",
       "1     2  2019                     Avengers: Endgame  $2,797,800,564   \n",
       "2     3  1997                               Titanic  $2,207,986,545   \n",
       "3     4  2015  Star Wars Ep. VII: The Force Awakens  $2,065,478,084   \n",
       "4     5  2018                Avengers: Infinity War  $2,044,540,523   \n",
       "5     6  2015                        Jurassic World  $1,669,979,967   \n",
       "6     7  2019                         The Lion King  $1,654,381,934   \n",
       "7     8  2015                             Furious 7  $1,517,179,709   \n",
       "8     9  2012                          The Avengers  $1,515,100,211   \n",
       "9    10  2019                             Frozen II  $1,447,244,586   \n",
       "\n",
       "       Domestic   International  \n",
       "0  $760,507,625  $2,041,086,015  \n",
       "1  $858,373,000  $1,939,427,564  \n",
       "2  $659,363,944  $1,548,622,601  \n",
       "3  $936,662,225  $1,128,815,859  \n",
       "4  $678,815,482  $1,365,725,041  \n",
       "5  $652,306,625  $1,017,673,342  \n",
       "6  $543,638,043  $1,110,743,891  \n",
       "7  $353,007,020  $1,164,172,689  \n",
       "8  $623,357,910    $891,742,301  \n",
       "9  $477,373,578    $969,871,008  "
      ]
     },
     "execution_count": 10,
     "metadata": {},
     "output_type": "execute_result"
    }
   ],
   "source": [
    "new_df"
   ]
  },
  {
   "cell_type": "code",
   "execution_count": 9,
   "metadata": {},
   "outputs": [],
   "source": [
    "new_df.to_excel('movies.xlsx')"
   ]
  },
  {
   "cell_type": "markdown",
   "metadata": {},
   "source": [
    "# CREDIT\n",
    "*Here,I have used  [**The Number**](https://www.the-numbers.com/) to extract the Box office Information,this information is just for the Project Purpose.*"
   ]
  }
 ],
 "metadata": {
  "kernelspec": {
   "display_name": "Python 3",
   "language": "python",
   "name": "python3"
  },
  "language_info": {
   "codemirror_mode": {
    "name": "ipython",
    "version": 3
   },
   "file_extension": ".py",
   "mimetype": "text/x-python",
   "name": "python",
   "nbconvert_exporter": "python",
   "pygments_lexer": "ipython3",
   "version": "3.8.5"
  }
 },
 "nbformat": 4,
 "nbformat_minor": 4
}

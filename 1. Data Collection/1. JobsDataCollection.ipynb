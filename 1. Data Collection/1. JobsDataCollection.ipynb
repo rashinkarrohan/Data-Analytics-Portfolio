{
 "cells": [
  {
   "cell_type": "markdown",
   "metadata": {},
   "source": [
    "<center>\n",
    "    <img src=\"https://cdn.knoji.com/images/logo/github-jobs.jpg?aspect=center&snap=false&width=500&height=250\" width=\"600\" alt=\"Number logo\" />\n",
    "</center>"
   ]
  },
  {
   "cell_type": "markdown",
   "metadata": {},
   "source": [
    "# Objective: Determine the number of jobs currently open for various technologies using Github Jobs API.\n"
   ]
  },
  {
   "cell_type": "markdown",
   "metadata": {},
   "source": [
    "Collect the number of job postings for the following languages using the API:\n",
    "\n",
    "-   C\n",
    "-   C#\n",
    "-   C++\n",
    "-   Java\n",
    "-   JavaScript\n",
    "-   Python\n",
    "-   Scala\n",
    "-   Oracle\n",
    "-   SQL Server\n",
    "-   MySQL Server\n",
    "-   PostgreSQL\n",
    "-   MongoDB"
   ]
  },
  {
   "cell_type": "markdown",
   "metadata": {},
   "source": [
    "### Importing Librares\n",
    "To Collect the Data, we will need some tools at our disposal to make the process as seamless as possible. We will not go through all the libraries but will take the time to explain a few.\n",
    "\n",
    "1. **pandas** - Pandas is used for data manipulation and analysis.\n",
    "2. **csv** - To Save the data in the Csv format.\n",
    "3. **requests** - The requests allows you to send HTTP requests using Python.\n"
   ]
  },
  {
   "cell_type": "code",
   "execution_count": 2,
   "metadata": {},
   "outputs": [],
   "source": [
    "import requests\n",
    "import pandas as pd\n",
    "import csv"
   ]
  },
  {
   "cell_type": "markdown",
   "metadata": {},
   "source": [
    "Write a function to get the number of jobs for the given technology.<br>\n",
    "_Note:_ The API gives a maximum of 50 jobs per page.<br>\n",
    "If you get 50 jobs per page, it means there could be some more job listings available.<br>\n",
    "So if you get 50 jobs per page you should make another API call for next page to check for more jobs.<br>\n",
    "If you get less than 50 jobs per page, you can take it as the final count.<br>"
   ]
  },
  {
   "cell_type": "markdown",
   "metadata": {},
   "source": [
    "### Creating Function for Collecting Data."
   ]
  },
  {
   "cell_type": "code",
   "execution_count": 16,
   "metadata": {},
   "outputs": [],
   "source": [
    "def sum(technology,i):\n",
    "    url = 'https://jobs.github.com/positions.json?description={}&page={}'.format(technology,i)\n",
    "    response = requests.get(url)\n",
    "    if response.ok:             \n",
    "        data1 = response.json() \n",
    "    number_of_jobs = len(data1)  \n",
    "    return number_of_jobs\n",
    "\n",
    "\n",
    "def get_number_of_jobs(technology):\n",
    "    number_of_jobs = 0\n",
    "    i = 0\n",
    "    while sum(technology,i) == 50 :\n",
    "        number_of_jobs = number_of_jobs + sum(technology,i) \n",
    "        i = i+1\n",
    "    number_of_jobs = number_of_jobs + sum(technology,i)\n",
    "    return technology,number_of_jobs"
   ]
  },
  {
   "cell_type": "code",
   "execution_count": 17,
   "metadata": {},
   "outputs": [
    {
     "data": {
      "text/plain": [
       "('JavaScript', 115)"
      ]
     },
     "execution_count": 17,
     "metadata": {},
     "output_type": "execute_result"
    }
   ],
   "source": [
    "get_number_of_jobs('JavaScript')"
   ]
  },
  {
   "cell_type": "markdown",
   "metadata": {},
   "source": [
    "### Getting the Data "
   ]
  },
  {
   "cell_type": "code",
   "execution_count": 18,
   "metadata": {},
   "outputs": [],
   "source": [
    "in_put = ['C','C%23','C%2B%2B','Java','JavaScript','Python','Scala','Oracle','SQL Server','MySQL Server','PostgreSQL','MongoDB']\n",
    "output = []\n",
    "for i in in_put:\n",
    "    output.append(list(get_number_of_jobs(i)))"
   ]
  },
  {
   "cell_type": "code",
   "execution_count": 19,
   "metadata": {},
   "outputs": [
    {
     "data": {
      "text/plain": [
       "[['C', 244],\n",
       " ['C%23', 25],\n",
       " ['C%2B%2B', 15],\n",
       " ['Java', 138],\n",
       " ['JavaScript', 115],\n",
       " ['Python', 101],\n",
       " ['Scala', 45],\n",
       " ['Oracle', 9],\n",
       " ['SQL Server', 16],\n",
       " ['MySQL Server', 9],\n",
       " ['PostgreSQL', 12],\n",
       " ['MongoDB', 9]]"
      ]
     },
     "execution_count": 19,
     "metadata": {},
     "output_type": "execute_result"
    }
   ],
   "source": [
    "output"
   ]
  },
  {
   "cell_type": "markdown",
   "metadata": {},
   "source": [
    "Rename *C%23* and *C%2B%2B* , as C# and C++ Respectively"
   ]
  },
  {
   "cell_type": "code",
   "execution_count": 20,
   "metadata": {},
   "outputs": [],
   "source": [
    "output[1][0] = 'C#'\n",
    "output[2][0] = 'C++'"
   ]
  },
  {
   "cell_type": "code",
   "execution_count": 21,
   "metadata": {
    "scrolled": true
   },
   "outputs": [
    {
     "data": {
      "text/plain": [
       "[['C', 244],\n",
       " ['C#', 25],\n",
       " ['C++', 15],\n",
       " ['Java', 138],\n",
       " ['JavaScript', 115],\n",
       " ['Python', 101],\n",
       " ['Scala', 45],\n",
       " ['Oracle', 9],\n",
       " ['SQL Server', 16],\n",
       " ['MySQL Server', 9],\n",
       " ['PostgreSQL', 12],\n",
       " ['MongoDB', 9]]"
      ]
     },
     "execution_count": 21,
     "metadata": {},
     "output_type": "execute_result"
    }
   ],
   "source": [
    "output"
   ]
  },
  {
   "cell_type": "markdown",
   "metadata": {},
   "source": [
    "### Converting Data to CSV"
   ]
  },
  {
   "cell_type": "code",
   "execution_count": 22,
   "metadata": {},
   "outputs": [],
   "source": [
    "with open('GithubnumberofJobs.csv','w',newline='',encoding='utf-8') as file:\n",
    "    a = csv.writer(file)\n",
    "    a.writerow(['Technology','Number_of_jobs'])\n",
    "    a.writerows(output)"
   ]
  },
  {
   "cell_type": "code",
   "execution_count": 3,
   "metadata": {},
   "outputs": [],
   "source": [
    "df = pd.read_csv('GithubnumberofJobs.csv')"
   ]
  },
  {
   "cell_type": "code",
   "execution_count": 4,
   "metadata": {},
   "outputs": [],
   "source": [
    "df.to_excel('GithubnumberofJobs.xlsx')"
   ]
  },
  {
   "cell_type": "code",
   "execution_count": 5,
   "metadata": {},
   "outputs": [],
   "source": [
    "df = df.sort_values(by='Number_of_jobs',ascending=False)"
   ]
  },
  {
   "cell_type": "code",
   "execution_count": 6,
   "metadata": {},
   "outputs": [
    {
     "data": {
      "text/plain": [
       "<AxesSubplot:xlabel='Technology', ylabel='Number_of_jobs'>"
      ]
     },
     "execution_count": 6,
     "metadata": {},
     "output_type": "execute_result"
    },
    {
     "data": {
      "image/png": "[encoded data removed]",
      "text/plain": [
       "<Figure size 1080x432 with 1 Axes>"
      ]
     },
     "metadata": {
      "needs_background": "light"
     },
     "output_type": "display_data"
    }
   ],
   "source": [
    "import seaborn as sns\n",
    "import matplotlib.pyplot as plt\n",
    "f, ax = plt.subplots(figsize=(15, 6))\n",
    "sns.barplot(x='Technology',y='Number_of_jobs', palette=\"husl\",data=df,color=\"r\")"
   ]
  },
  {
   "cell_type": "markdown",
   "metadata": {},
   "source": [
    "# CREDIT\n",
    "*Here,I have used  [**GitHub Jobs**](https://jobs.github.com/) to collect Jobs Data,this information is just for the Project Purpose.*\n",
    "\n",
    "Image Source : [**knoji**](https://githubjobs.knoji.com/questions/githubjobs-paypal/)"
   ]
  }
 ],
 "metadata": {
  "kernelspec": {
   "display_name": "Python 3",
   "language": "python",
   "name": "python3"
  },
  "language_info": {
   "codemirror_mode": {
    "name": "ipython",
    "version": 3
   },
   "file_extension": ".py",
   "mimetype": "text/x-python",
   "name": "python",
   "nbconvert_exporter": "python",
   "pygments_lexer": "ipython3",
   "version": "3.8.5"
  }
 },
 "nbformat": 4,
 "nbformat_minor": 4
}

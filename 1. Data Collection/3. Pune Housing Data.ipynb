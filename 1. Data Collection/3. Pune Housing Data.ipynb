{
 "cells": [
  {
   "cell_type": "markdown",
   "metadata": {},
   "source": [
    "# Objective: Scrap the Data of New York Housing Prices."
   ]
  },
  {
   "cell_type": "markdown",
   "metadata": {},
   "source": [
    "Things to Collect : \n",
    "    \n",
    "1. Price of the House.\n",
    "2. Number of Beds and Baths.\n",
    "3. Floorspace ( sq/ft ).\n",
    "4. Locality of House.\n",
    "5. Possession and Age."
   ]
  },
  {
   "cell_type": "markdown",
   "metadata": {},
   "source": [
    "## Import  Libraries\n",
    "To Scrap the Data, we will need some tools at our disposal to make the process as seamless as possible. We will not go through all the libraries but will take the time to explain a few.\n",
    "\n",
    "1. **BeautifulSoup** - This Library is used for Extracting or Scraping Data from the Website.\n",
    "2. **csv** - To Save the data in the csv format.\n",
    "3. **selenium** - Selenium is an open-source tool that automates web browsers."
   ]
  },
  {
   "cell_type": "code",
   "execution_count": 1,
   "metadata": {},
   "outputs": [],
   "source": [
    "import csv\n",
    "from bs4 import BeautifulSoup\n",
    "from selenium import webdriver"
   ]
  },
  {
   "cell_type": "markdown",
   "metadata": {},
   "source": [
    "## Getting Url \n",
    "To get Data,we need the website url from which we have to extract the data which is required for Analysis or Information Purpose."
   ]
  },
  {
   "cell_type": "code",
   "execution_count": 2,
   "metadata": {},
   "outputs": [],
   "source": [
    "def get_url(page):   \n",
    "    url = 'https://www.makaan.com/listings?propertyType=apartment&budget=,100000000&sortBy=popularity&listingType=buy&pageType=LISTINGS_PROPERTY_URLS&cityName=Pune&cityId=21&templateId=MAKAAN_CITY_LISTING_BUY&page={}'.format(page)\n",
    "    return url"
   ]
  },
  {
   "cell_type": "markdown",
   "metadata": {},
   "source": [
    "## Getting Output\n",
    "We will be getting output for each record and will be calling get_output() function from the MoviesEarning()"
   ]
  },
  {
   "cell_type": "code",
   "execution_count": 3,
   "metadata": {},
   "outputs": [],
   "source": [
    "def get_output(in_put):\n",
    "    \n",
    "    try:\n",
    "        bhk = in_put.find('a',{'data-type' : 'listing-link'}).text.strip().split()[0]\n",
    "    except AttributeError:\n",
    "        bhk = ''\n",
    "        \n",
    "    try:\n",
    "        locality = in_put.find('a',{'data-type' : 'localityName'}).text.strip().split(',')[-2]\n",
    "    except AttributeError:\n",
    "        locality = ''\n",
    "        \n",
    "    try:\n",
    "        Price = in_put.find('div',{'data-type' : 'price-link'}).text.strip()\n",
    "    except AttributeError:\n",
    "        Price = ''\n",
    "\n",
    "    try:\n",
    "        sqft = in_put.find('td',{'class' : 'size'}).text.strip()\n",
    "    except AttributeError:\n",
    "        sqft = ''\n",
    " \n",
    "    try:\n",
    "        status = in_put.find('td',{'class' : 'val'}).text.strip()\n",
    "    except AttributeError:\n",
    "        status = ''\n",
    "\n",
    "    try:\n",
    "        Possession  = in_put.find('li',{'title' : 'Possession by'}).text.strip()\n",
    "    except AttributeError:\n",
    "        Possession = ''\n",
    "    \n",
    "    try:\n",
    "        price_per_sqft = in_put.find('td',{'class' : 'lbl rate'}).text.strip()\n",
    "    except AttributeError:\n",
    "        price_per_sqft = ''\n",
    "        \n",
    "    try:\n",
    "        old = in_put.find('li',{'title' : 'old'}).text.strip().split()[0]\n",
    "    except AttributeError:\n",
    "        old = ''\n",
    "        \n",
    "    try:\n",
    "        bath = in_put.find('li',{'title' : 'Bathrooms'}).text.strip().split()[0]\n",
    "    except AttributeError:\n",
    "        bath = ''\n",
    "                \n",
    "        \n",
    "    output = (bhk,locality,Price,sqft,status,Possession,price_per_sqft,old,bath)\n",
    "    \n",
    "    return output"
   ]
  },
  {
   "cell_type": "code",
   "execution_count": 4,
   "metadata": {},
   "outputs": [],
   "source": [
    "def HousingDataScrap():\n",
    "    output = []\n",
    "    driver = webdriver.Chrome('D:\\\\Python Files\\\\chromedriver')\n",
    "    for i in range(2001,2905):\n",
    "        url = get_url(i)\n",
    "        driver.get(url)\n",
    "        soup = BeautifulSoup(driver.page_source,'html.parser')\n",
    "        in_puts  = soup.find_all('li','cardholder')\n",
    "        for j in in_puts:\n",
    "            output.append(get_output(j))\n",
    "    \n",
    "    with open('Pune_Housing.csv','w',newline='',encoding='utf-8') as file:\n",
    "        a = csv.writer(file)\n",
    "        a.writerow(['bhk','locality','Price','sqft','status','Possession','price_per_sqft','Age_old','bath'])\n",
    "        a.writerows(output)    "
   ]
  },
  {
   "cell_type": "code",
   "execution_count": 5,
   "metadata": {},
   "outputs": [],
   "source": [
    "HousingDataScrap()"
   ]
  },
  {
   "cell_type": "code",
   "execution_count": 1,
   "metadata": {},
   "outputs": [],
   "source": [
    "import pandas as pd\n",
    "\n",
    "df = pd.read_csv('Pune_Housing.csv')"
   ]
  },
  {
   "cell_type": "code",
   "execution_count": 3,
   "metadata": {},
   "outputs": [
    {
     "data": {
      "text/plain": [
       "(58072, 9)"
      ]
     },
     "execution_count": 3,
     "metadata": {},
     "output_type": "execute_result"
    }
   ],
   "source": [
    "df.shape"
   ]
  },
  {
   "cell_type": "markdown",
   "metadata": {},
   "source": [
    "# CREDIT\n",
    "*Here,I have used  [**Makaan**](https://www.makaan.com/) to extract the Housing Data of the Pune City,this information is just for the Project Purpose.*"
   ]
  }
 ],
 "metadata": {
  "kernelspec": {
   "display_name": "Python 3",
   "language": "python",
   "name": "python3"
  },
  "language_info": {
   "codemirror_mode": {
    "name": "ipython",
    "version": 3
   },
   "file_extension": ".py",
   "mimetype": "text/x-python",
   "name": "python",
   "nbconvert_exporter": "python",
   "pygments_lexer": "ipython3",
   "version": "3.8.5"
  }
 },
 "nbformat": 4,
 "nbformat_minor": 4
}
